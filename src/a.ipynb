{
 "cells": [
  {
   "cell_type": "code",
   "execution_count": 1,
   "id": "a0cb5691",
   "metadata": {},
   "outputs": [
    {
     "data": {
      "text/plain": [
       "{'topic_id': 1,\n",
       " 'topic': 'UK holds Brexit referendum, decides to leave EU',\n",
       " 'meta_date': '2016-06',\n",
       " 'distractor_words': 'EU, election'}"
      ]
     },
     "execution_count": 1,
     "metadata": {},
     "output_type": "execute_result"
    }
   ],
   "source": [
    "from utils import read_file, write_file\n",
    "\n",
    "data = read_file(\"../data/topics.json\")\n",
    "data[0]"
   ]
  },
  {
   "cell_type": "code",
   "execution_count": null,
   "id": "44cbef4d",
   "metadata": {},
   "outputs": [],
   "source": [
    "write_file(data, \"../data/test.json\")"
   ]
  }
 ],
 "metadata": {
  "kernelspec": {
   "display_name": ".venv",
   "language": "python",
   "name": "python3"
  },
  "language_info": {
   "codemirror_mode": {
    "name": "ipython",
    "version": 3
   },
   "file_extension": ".py",
   "mimetype": "text/x-python",
   "name": "python",
   "nbconvert_exporter": "python",
   "pygments_lexer": "ipython3",
   "version": "3.13.3"
  }
 },
 "nbformat": 4,
 "nbformat_minor": 5
}
