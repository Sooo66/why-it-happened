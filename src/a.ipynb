{
 "cells": [
  {
   "cell_type": "code",
   "execution_count": 1,
   "id": "a0cb5691",
   "metadata": {},
   "outputs": [
    {
     "data": {
      "text/plain": [
       "{'topic_id': 1,\n",
       " 'topic': 'UK holds Brexit referendum, decides to leave EU',\n",
       " 'meta_date': '2016-06',\n",
       " 'distractor_words': 'EU, election'}"
      ]
     },
     "execution_count": 1,
     "metadata": {},
     "output_type": "execute_result"
    }
   ],
   "source": [
    "from utils import read_file, write_file\n",
    "\n",
    "data = read_file(\"../data/topics.json\")\n",
    "data[0]"
   ]
  },
  {
   "cell_type": "code",
   "execution_count": 2,
   "id": "44cbef4d",
   "metadata": {},
   "outputs": [],
   "source": [
    "write_file(data, \"../data/test.json\")"
   ]
  },
  {
   "cell_type": "code",
   "execution_count": 1,
   "id": "47a402a2",
   "metadata": {},
   "outputs": [
    {
     "name": "stdout",
     "output_type": "stream",
     "text": [
      "<class 'list'>\n",
      "{'topic_id': 1, 'topic': 'UK holds Brexit referendum, decides to leave EU', 'meta_date': '2016-06', 'distractor_words': 'EU, election', 'docs': [{'title': 'A Secure Brexit? UK Security and Defense and the Decision to Leave the European Union', 'link': 'https://www.marshallcenter.org/en/publications/security-insights/secure-brexit-uk-security-and-defense-and-decision-leave-european-union-0', 'snippet': 'This article outlines the defense and security context for Brexit before, during and after the referendum in June 2016 and analyzes the claims made by the...', 'date': '97 months ago', 'source': 'George C. Marshall European Center For Security Studies', 'imageUrl': 'https://encrypted-tbn0.gstatic.com/images?q=tbn:ANd9GcS2FsTV8mwSRtD8Ap8JhddBC_JxxHTvOC6ivpnzSJrZqAp3z11BlVh2NqwoNA&s', 'position': 9, 'parsed_date': '2017-06', 'content': 'Intelligence and Counterterrorism Cooperation\\n\\nCore intelligence exchanges remain the preserve of individual nation states in Europe. They are outside of the EU and therefore also outside the jurisdiction of the European Court of Justice (ECJ). Thus these exchanges should not be affected by Brexit. The UK government is proud of what Theresa May has referred to as its “unique intelligence capabilities.” These stem from its traditional, close partnership with the U.S. and its membership in the so-called “Five Eyes” intelligence alliance of Anglosphere nations. No other European countries, including France and Germany, have the capability and reach of the UK, especially in the field of digital intelligence.28\\n\\nBritain also has a prime role in counter terrorism policy in Europe. The UK drafted the EU Counter Terrorism Strategy in 2005, which is modeled on the British national strategy. At the legislative level, the UK has strongly influenced some important EU initiatives such as the Europol Counter Terrorism Centre (CTC) and the PNRD.29 The UK has also taken the lead with its intelligence-led counter terrorism policing concept. This integrates the intelligence agencies with the police in order to start investigations into terrorist plots as early as possible in the attack cycle.30 The intelligence and police functions are normally kept separate in continental Europe, which can limit the timely exchange of vital information and slow down the investigation process. However, the UK has definitely benefitted from EU counter terrorism activities and agencies. The EAW, for instance, has greatly increased the speed of extraditions between EU states. Cases that previously took months or years are now resolved in weeks. Europol is valuable for police liaison and cooperation and Eurojust plays the same role for judicial cooperation. Britain has also joined the Schengen Information System, which allows police to share information on suspects and provides a network for sharing DNA, fingerprints, and vehicle registration documentation.31\\n\\nThere is no evidence that the referendum decision has had a negative impact on the UK’s counter-terrorism activities, at least so far. It is assumed that EU states will wish to continue close counter terrorism cooperation with the UK after Brexit, while Britain will also want to retain access to EU law enforcement databases and data-sharing platforms. The UK will presumably remain a member of the Counter Terrorist Group (CTG). CTG is a non-EU body where the heads of intelligence agencies of EU countries plus Norway and Switzerland meet to encourage members to share intelligence and facilitate operational cooperation. But this informal group is not yet a substitute for direct cooperation through the EU agencies identified above.\\n\\nAfter Brexit, the UK will have to negotiate new arrangements for all of these, possibly through a series of bilateral sharing agreements with individual states. Australia and the U.S., for example, have association agreements that allow them to have liaison officers at Europol. Nevertheless, officials acknowledge that there will be some practical limits on what can be achieved in comparison to the pre-Brexit situation. At the moment, there is no precedent for a non-EU country to plug directly into the Europol information system and the legislative framework for the EAW exists under ECJ jurisdiction that the UK will leave.32 The negotiation process, even if conducted with a mind to mutual security benefits, will at the very least hinder Britain and Europe’s efforts to create more powerful and mutually beneficial networks to fight terrorism. Sir Julian King, the EU Commissioner for Security Union, put the issue succinctly: “Because everybody agrees that you should do something does not mean that it is necessarily straightforward and easy to do…”33\\n\\nBritish government negotiators will be focused on trying to retain all the benefits of close counter terrorism cooperation with continental Europe. Meanwhile the government may face a renewed terrorism threat on another flank as the Brexit decision could exacerbate tensions in Northern Ireland. The UK government assesses the threat of terrorism in Northern Ireland as “severe” and low level attacks by republican fringe groups have continued unabated despite the peace agreement signed in 2007. Up to 80% of the republican Sinn Fein supporters and other nationalists are believed to have voted for Remain.34 The potential renegotiation of the Common Travel Area Agreement, which could affect the current open border with the Republic of Ireland, and the loss of EU funding for Northern Ireland infrastructure projects, may increase nationalist sentiment. These developments may encourage violent republican dissidents to step up their campaign if they can build the necessary grassroots support. This was evidently lacking when such groups tried to exploit the centenary of the 1916 Easter Rising, but the complexities and uncertainties associated with Brexit in Northern Ireland may yet provide the support for renewed violence that has hitherto been absent.'}, {'title': 'Britain Votes to Leave E.U.; Cameron Plans to Step Down (Published 2016)', 'link': 'https://www.nytimes.com/2016/06/25/world/europe/britain-brexit-european-union-referendum.html', 'snippet': \"Britain has voted to leave the European Union, a historic decision sure to reshape the nation's place in the world.\", 'date': '107 months ago', 'source': 'The New York Times', 'imageUrl': 'https://encrypted-tbn0.gstatic.com/images?q=tbn:ANd9GcTBiodw81CtN6H0dIn_JYBuhwBierKnHwhWbASJ3fY9Ty5T4FqFScEpY9Q8Ew&s', 'position': 1, 'parsed_date': '2016-08', 'content': 'RESTRICTION SUMMARY: AP CLIENTS ONLY UK POOL - AP CLIENTS ONLY London - 24 June 2016 1. British Prime Minister David Cameron approaching the lectern to give a statement 2. SOUNDBITE (English) David Cameron, British Prime Minister: “Good morning everyone. The country has just taken part in a giant democratic exercise, perhaps the biggest in our history. Over 33 million people, from England, Scotland, Wales, Northern Ireland and Gibraltar, have all had their say. We should be proud of the fact that in these islands, we trust the people with these big decisions. We not only have a parliamentary democracy, but on questions about the arrangements for how we are governed there are times when it is right to ask the people themselves and that is what we have done. The British people have voted to leave the European Union and their will must be respected. I want to thank everyone who took part in the campaign on my side of the argument, including all those who put aside party differences to speak in what they believe was the national interest and let me congratulate all those who took part in the Leave campaign for the spirited and passionate case that they made. The will of the British people is an instruction that must be delivered. It was not a decision that was taken lightly, not least because so many things were said by so many different organisations about the significance of this decision.” ++FRAMES OF BLACK++ 3. SOUNDBITE (English) David Cameron, British Prime Minister: “I fought his campaign in the only way I know how: which is to say directly and passionately what I think and feel, head, heart and soul. I held nothing back, I was absolutely clear about my belief that Britain is stronger, safer and better off inside the European Union. And I made clear the Referendum was about this and this alone - not the future of any single politician including myself. But the British people have made a very clear decision to take a different path and as such I think the country requires fresh leadership to take it in this direction. I will do everything I can as Prime Minister to steady the ship over the coming weeks and months but I do not think it would be right for me to try to be the captain that steers our country to its next destination. This is not a decision I’ve taken lightly but I do believe it’s in the national interest to have a period of stability and then the new leadership required. There is no need for a precise timetable today but in my view we should aim to have a new prime minister in place by the start of the Conservative Party conference in October. Delivering stability will be important and I will continue in post as Prime Minister with my Cabinet for the next three months. The Cabinet will meet on Monday, the Governor of the Bank of England is making a statement about the steps that the Bank and the Treasury are taking to reassure financial markets.” 4. Cameron at lectern AND RESTRICTION SUMMARY: AP CLIENTS ONLY UK POOL - AP CLIENTS ONLY London - 24 June 2016 1. SOUNDBITE (English) David Cameron, British Prime Minister: “A negotiation with the European Union will need to begin under a new Prime Minister. And I think it’s right that this new Prime Minister takes the decision about when to trigger Article 50 and start the formal and legal process of leaving the EU. I will attend the European Council next week to explain the decision the British people have taken, and my own decision.” ++FRAMES OF BLACK++ 2. SOUNDBITE (English) David Cameron, British Prime Minister: “Although leaving Europe was not the path I recommended, I am the first to praise our incredible strengths. I said before that Britain can survive outside the European Union and indeed that we could find a way. Now the decision has been made to leave, we need to find the best way. And I will do everything I can to help. I love this country and I feel honoured to have served it. And I will do everything I can in the future to help this great country succeed. Thank you very much.” 3. Various of Cameron walking back to Number 10 with his wife Samantha'}, {'title': 'U.K. Votes To Leave EU; Prime Minister Cameron To Step Down', 'link': 'https://www.npr.org/sections/thetwo-way/2016/06/24/483327087/bbc-projects-united-kingdom-votes-to-leave-the-european-union', 'snippet': 'Voters in the UK have decided to leave the European Union, a decision that has shocked Europe, shaken global markets and pushed Prime Minister David Cameron to...', 'date': '107 months ago', 'source': 'NPR', 'imageUrl': 'https://encrypted-tbn0.gstatic.com/images?q=tbn:ANd9GcSciCKeC9dOrUuxykRJNgZ2HF2Hr_Vz9Y_M9WLDHNhbk38tggPyBHIboZfCvQ&s', 'position': 2, 'parsed_date': '2016-08', 'content': 'U.K. Votes To Leave EU; Prime Minister Cameron To Step Down\\n\\nEnlarge this image toggle caption Geoff Caddick/AFP/Getty Images Geoff Caddick/AFP/Getty Images\\n\\nUpdated 9:42 a.m. ET\\n\\nVoters in the U.K. have decided to leave the European Union, a decision that has shocked Europe, shaken global markets and pushed Prime Minister David Cameron to announce his upcoming resignation.\\n\\nThe EU referendum vote was decisive — 52 percent to 48 percent in favor of dissolving the United Kingdom\\'s 43-year membership in the European community. But Northern Ireland and Scotland voted in favor of remaining, raising the specter that the United Kingdom itself may break apart.\\n\\nCameron announced he will resign before his Conservative Party conference in October.\\n\\nSponsor Message\\n\\n\"I was absolutely clear about my belief that Britain is stronger, safer and better off inside the European Union,\" Cameron said Friday. \"But the British people have made a very clear decision to take a different path, and as such I think the country requires fresh leadership to take it in this direction.\"\\n\\nThe process of leaving the EU will likely take many years of negotiations.\\n\\nEnlarge this image toggle caption Matt Dunham/AP Matt Dunham/AP\\n\\nIn the meantime, it\\'s a period of \"tremendous uncertainty\" for the U.K. and Europe, NPR\\'s Peter Kenyon reports from London. And the fiery rhetoric that marked the debate over the referendum hasn\\'t ended now that the results are in.\\n\\n\"The EU\\'s failing, the EU\\'s dying,\" said Leave campaigner Nigel Farage, the head of the U.K. Independence Party, after the official results were announced. Farage said he anticipates the Netherlands and Denmark will follow Great Britain out of the European Union.\\n\\nThe value of the British pound plunged; at one point Friday it was lower against the U.S. dollar than it has been at any point since 1985.\\n\\nGlobal stock markets also plummeted as the vote counts trickled in Thursday night and Friday morning. NPR\\'s John Ydstie notes, however, that markets had been up based on the erroneous belief that the U.K. would opt for \"remain\" — so the sharp decline actually returns markets to approximately where they were a week ago. Gold, meanwhile, went up.\\n\\nSponsor Message\\n\\nIn U.K., Elation, Surprise And Uncertainty\\n\\nOpinion polls showed a tight race, with the final poll — as well as the betting markets and the financial world — anticipating the U.K. would vote \"Remain.\" That meant for many in the U.K. and around the world, the referendum\\'s outcome came as a shock.\\n\\nThe results showed sharp regional divisions in the United Kingdom. London, Scotland and Northern Ireland had strong pro-EU results, while rural and economically depressed areas backed the so-called Brexit in large numbers.\\n\\ntoggle caption Rob Stothard/Getty Images\\n\\nNPR\\'s Frank Langfitt says that in London today, people who wanted to remain in the EU are both disappointed and \"very surprised.\"\\n\\n\"People who wanted out are elated,\" he said. \"There\\'s one woman I talked to who actually screamed.\"\\n\\nJeremy Corbyn, leader of the opposition Labour Party, said voters were reacting to decades of mistreatment by successive governments.\\n\\n\"Many communities are fed up with cuts, fed up with economic dislocation and feel very angry at the way they\\'ve been betrayed and marginalized,\" Corbyn said.\\n\\nAnger over immigration was a potent force among the \"Leave\" camp, Frank says.\\n\\nMany voters who opted out of the EU \"felt that the price of immigration was just too high, that it was driving down wages, costing people jobs,\" he says. \"With some white Britons, there was a feeling also that the immigration was changing the nature of communities here.\"\\n\\ntoggle caption Niklas Halle\\'n/AFP/Getty Images\\n\\nMany voters also distrusted the experts and powerful leaders urging voters against the Brexit, Frank says:\\n\\n\"The rest of the world, for what it\\'s worth, was telling the Brits not to do this. Economists almost uniformly were against this; they said it would damage the British economy and the global economy. Political leaders from Xi Jinping in China to Barack Obama said this would make Britain less relevant. But the voters — to some degree, I think, tired of being told what to do by the elites — made up their minds.\"\\n\\nSponsor Message\\n\\nAs U.K. Breaks Off, Might It Break Apart?\\n\\nNorthern Ireland\\'s strong Remain vote led Sinn Fein chairman Declan Kearney to call for a referendum on unification with Ireland, an EU member country. Sinn Fein is the largest Irish nationalist party in Northern Ireland.\\n\\nNorthern Ireland\\'s deputy first minister, nationalist Martin McGuinness, said holding such a vote is \"a democratic imperative.\"\\n\\nPro-British First Minister Arlene Foster, meanwhile, said there was \"no way\" such a vote would result in a united Ireland.\\n\\nScotland, too, may be eyeing a split with the U.K. — again. A 2014 referendum on Scottish independence resulted in the country remaining within the United Kingdom.\\n\\nBut now that the U.K. will be leaving the EU, a second referendum may be in the works. Scotland\\'s voters preferred \"Remain\" over \"Leave,\" by 62 percent to 38 percent.\\n\\nEnlarge this image toggle caption Glyn Kirk/AFP/Getty Images Glyn Kirk/AFP/Getty Images\\n\\nScottish First Minister Nicola Sturgeon says the result is Scotland being pulled out of Europe against its will.\\n\\n\"I regard that as being democratically unacceptable,\" she said Friday. \"It\\'s a statement of the obvious that a second referendum [on independence] is on the table.\"\\n\\nIn Europe, \\'Complete Shock\\'\\n\\nThe United Kingdom is (or was, until the pound crashed) the second-largest economy in the EU, and the referendum comes as a blow to the continent.\\n\\n\"I think there was complete shock this morning when people woke up,\" says NPR\\'s Soraya Sarhaddi Nelson, reporting from Berlin. \"Like most Europeans, everybody here thought they would wake up to the U.K. still being in the EU.\\n\\n\"It\\'s unusual here to have a quick reaction from officialdom, but there actually was some reaction,\" she says. \"The vice chancellor I think summed it up for all when he tweeted, \\'Damn, a bad day for Europe.\\' \"\\n\\nCurrent EU president Donald Tusk said the group is \"determined to keep our unity at 27,\" referring to the number of member nations minus Great Britain. He went on to say, quoting his father, \"What doesn\\'t kill you makes you stronger.\"\\n\\nThe EU assembly will hold an emergency session next week in the wake of the news, The Associated Press reports. The referendum\\'s results will also be the top item on the agenda for an upcoming summit of EU leaders in Brussels.\\n\\nSponsor Message\\n\\nGermany\\'s foreign minister, Frank-Walter Steinmeier, tweeted the vote was \"a sad day for Europe and Britain.\" France\\'s foreign minister, Jean-Marc Ayrault, said he was \"sad for the United Kingdom.\"\\n\\nEnlarge this image toggle caption Rob Stothard/AFP/Getty Images Rob Stothard/AFP/Getty Images\\n\\nPoland\\'s foreign ministry, meanwhile, called it a \"warning signal\" of \"disillusionment with European integration,\" the AP reports. Hungary\\'s prime minister, Viktor Orban, said the vote pivoted on the question of immigration and signaled the importance of Brussels listening to the \"voice of the people\" in member states. Anti-immigration sentiment has been playing a central role in politics within both countries.\\n\\nEuroskeptic parties in Sweden and Denmark called for EU membership referenda in their own nations, the AP writes, as did far-right leader Marine Le Pen in France.\\n\\nAs for what happens next: NPR\\'s Peter Kenyon explains there is a two-year window for the U.K. and the EU to come to an agreement over the terms of its departure from Europe.\\n\\nAs Peter noted earlier, some members of the \"Remain\" camp have worried that a Brexit would give the EU an incentive to keep other member states from fleeing: \"Therefore, the argument goes, they would offer the U.K. very poor exit terms — such as drastically limiting the U.K.\\'s access to the EU single market — as a warning to other states.\"\\n\\ntoggle caption Thomas Samson/AFP/Getty Images\\n\\nIn U.S., Economic Effects And Political Echoes\\n\\nWhile laws and policies in the U.K. aren\\'t changing immediately, the impact of the Brexit on the rest of the world, including the U.S., has already begun.\\n\\nThe British pound is one of the world\\'s stable \"reserve\" currencies, and it\\'s fallen precipitously in value. Markets, too, have contracted. On Friday morning, the Dow opened and immediately dropped approximately 500 points.\\n\\n\"I think over the long term for the United States, it\\'s going to mean a little bit slower economy,\" reports NPR\\'s John Ydstie. \"It means a stronger dollar, which is going to hurt exports. It also means that our trading partners, like the EU and the U.K., are going to go through a period of uncertainty and their growth could be hampered — so, again, exports to those countries could be hurt.\"\\n\\nSponsor Message\\n\\nAs NPR\\'s Marilyn Geewax has previously reported, there\\'s also the risk of a domino effect of exits — whether Scotland leaving the U.K. or more countries leaving the EU. Either would cause political instability, \"as well as disruptions in flows of labor, capital and commerce,\" Marilyn writes, \"harming U.S. business dealings.\"\\n\\n\"But some conservatives say Brexit would spur growth by freeing the U.K. from regulatory overreach by EU bureaucrats,\" Marilyn notes.\\n\\nAnd, John says, \"I guess the silver lining to this cloud is that if you\\'re taking a trip to the U.K. this summer for a vacation, your dollar is going to go a little bit further.\"\\n\\ntoggle caption Jeff J Mitchell/Getty Images\\n\\nMeanwhile, many observers are noting the similarities between the politics over the referendum and the U.S. presidential election.\\n\\nTony Travers, a professor at the London School of Economics, spoke with NPR\\'s Frank Langfitt after the referendum results were announced.\\n\\n\"I think the lesson is, in part, a traditional one: a disconnect between political elites as they\\'re called — people who run the government and the financial system and so on — and most other people,\" Travers said. \"And, you know, in the United States the rise of Donald Trump and Bernie Sanders, I think, is evidence of a similar phenomenon.\"\\n\\nTrump, the presumptive Republican nominee, is currently in the U.K. visiting the Trump Turnberry golf course.\\n\\nAlthough he was in Scotland — which, again, overwhelmingly voted to remain in the EU — Trump tweeted that the \"place is going wild over the vote. They took their country back, just like we will take America back.\"\\n\\nSpeaking at his golf course in Scotland, he said people are angry, which fueled the Brexit vote. He also said the weaker pound will help business at the golf course.\\n\\nIn a statement, Trump said Americans, too, will have an opportunity to \"re-declare their independence\" and \"reject today\\'s rule by the global elite,\" and said he hoped America is watching.\\n\\nSponsor Message\\n\\nPresident Obama issued a statement Friday morning, saying \"the people of the United Kingdom have spoken, and we respect their decision.\"\\n\\n\"The special relationship between the United States and the United Kingdom is enduring,\" he said. \"So too is our relationship with the European Union.\"'}, {'title': 'Brexit vote highlighted UK’s discontent with EU, but other European countries are grumbling too', 'link': 'https://www.pewresearch.org/short-reads/2016/06/24/brexit-vote-highlighted-uks-discontent-with-eu-but-other-european-countries-are-grumbling-too/', 'snippet': 'The decision by the United Kingdom to leave the European Union – known as Brexit – shines a spotlight on the divisions in public opinion between the UK and the...', 'date': '107 months ago', 'source': 'Pew Research Center', 'imageUrl': 'https://encrypted-tbn0.gstatic.com/images?q=tbn:ANd9GcTWm79Cm394ip84rMSDmsHHOCJ5WYQdOLpMGdF7-TGrfmHUtoXWUjQsOlfH3A&s', 'position': 3, 'parsed_date': '2016-08', 'content': 'The decision by the United Kingdom to leave the European Union – known as Brexit – shines a spotlight on the divisions in public opinion between the UK and the continental members of the EU, and within the UK on a range of issues relating to the future of Europe.\\n\\nThe June 23 referendum – in which the public voted 52% to 48% to leave – is a reminder that the British have never been as enamored with the EU as most of their continental counterparts. Britons have criticized the EU for its handling of a range of issues, resent the loss of power to the Brussels-based institution and are divided among themselves about the institution they first joined in 1973.\\n\\nMore broadly, a Pew Research Center survey conducted this spring found that publics in a number of other EU countries share the British desire for a less, not more, centralized Europe, and that the debate about the future of the EU will not subside just because the UK has now voted.\\n\\nThe EU has never been as popular in the UK as it has been among other EU members. Just 44% of the public in the UK has a favorable view of the EU, compared with a median of 50% who hold a favorable opinion in five other EU nations surveyed by Pew Research Center. Support for the EU is down in the UK from a high of 52% in 2014. British views of the EU have consistently been lower than those on the continent for nearly a decade.\\n\\nThe British have long thought that the EU was inefficient and intrusive and has mishandled the challenges facing Europe. In a 2014 Pew Research Center survey, 64% of the British thought the EU was inefficient and does not understand the needs of its citizens. Six-in-ten said it was intrusive. In this year’s survey, 70% in the UK disapprove of the EU’s handling of the refugee issue and 55% said the same about the EU’s dealing with economic issues.\\n\\nThe vote to leave reflects the desire of nearly two-thirds of the UK public to bring back some EU powers from Brussels to London. Fully 65% of the British said before the referendum that they wanted some EU powers to be returned to their national government. This included 73% of those ages 50 and older, 70% of men, 68% of those with a secondary education or less, 93% of UK Independence Party supporters, 77% of Conservative Party adherents and 49% of Labour Party backers.\\n\\nThe Brexit vote exposes a rift in public opinion between the Scottish and people in the rest of the United Kingdom. The Scottish voted to stay in the EU by an overwhelming margin of 62% to 38%, putting a new Scottish independence referendum on the table. Pew Research Center data show that the Scottish are more likely than those in England, Northern Ireland and Wales to have a favorable opinion of the EU (53% versus 43% respectively).\\n\\nScotland also disagrees with the rest of the UK on two issues central to the Brexit debate: the economy and immigration. The Scottish feel more threatened by the prospect of global economic instability than their counterparts in the rest of the UK. Roughly six-in-ten say it is a major threat to their country, while only 48% say the same in England, Northern Ireland and Wales. Meanwhile, the rest of the UK feels more threatened by the large number of refugees leaving countries such as Iraq and Syria (54% major threat). Just 41% of Scottish people agree.\\n\\nThe rest of Europe sees Brexit as pivotal for the well-being of the EU. Before the referendum, a median of 70% said that they thought it would be a bad thing for the EU if the UK were to leave. This included 89% of the Swedes, 75% of the Dutch and 74% of the Germans.\\n\\nThe debate in other EU member states about the future of the institution may just be getting started. A majority of the Greeks (68%) and pluralities of the Dutch (44%), Germans (43%), Italians (39%) and French (39%) all want some EU power returned to their national governments. Both the Dutch and the French have a history of holding referendums on major and not-so-major issues, and Euroskeptic parties in both countries have already voiced support for a public vote on their relationship with the EU.\\n\\nNOTE (April 2017): After publication, the weight for the Netherlands data was revised to correct percentages for two regions. The impact of this revision on the Netherlands data included in this blog post is very minor and does not materially change the analysis. For a summary of changes, see here. For updated demographic figures for the Netherlands, please contact info@pewresearch.org.'}, {'title': 'EU referendum results: David Cameron to resign, markets tumble', 'link': 'https://www.cnn.com/2016/06/24/europe/uk-eu-referendum-results', 'snippet': \"The United Kingdom's vote to leave the EU in a historic “Brexit” triggered British Prime Minister David Cameron's resignation and wreaked...\", 'date': '107 months ago', 'source': 'CNN', 'imageUrl': 'https://encrypted-tbn0.gstatic.com/images?q=tbn:ANd9GcRR1NScIdkOFPFQxrUpT_8Bq0WWhG1aTEZd4y4-3Y6gN8aUW7gR_K-XioiTcg&s', 'position': 4, 'parsed_date': '2016-08', 'content': 'Go here to follow CNN’s coverage of the UK referendum live.\\n\\nStory highlights Markets plunged at the news Scotland may hold an independence referendum Some parties in other countries call for an EU vote\\n\\nLondon CNN —\\n\\nThe United Kingdom’s historic Brexit vote to leave the European Union triggered the resignation Friday of British Prime Minister David Cameron and wreaked havoc on global markets.\\n\\nThere was a mixture of jubilation and tearful disbelief in the UK as people awoke to the final result from Thursday’s extremely close vote, which deeply divided the nation.\\n\\nThe result plunged Europe into uncertainty, with calls for further referendums from emboldened far-right groups who see it as a boost for their anti-EU, anti-immigration policies.\\n\\nIt also reverberated across financial markets, causing huge losses in Asia, Europe and the United States as traders weighed the consequences for the world’s biggest economic zone.\\n\\nA map of the United Kingdom, which shows the areas that voted to remain in blue, and those which voted to leave in red.\\n\\nWithin hours of Thursday’s ballot outcome – 51.89% in favor of leaving the EU and 48.11% against – Cameron delivered an emotionally charged statement outside the Prime Minister’s residence at 10 Downing Street, announcing his intention to stand down.\\n\\nMORE: What happens now?\\n\\nCameron’s possible successor\\n\\n“The British people have voted to leave the EU and their will must be respected,” he said. “The will of the British people is an instruction which must be delivered. … There can be no doubt about the result.”\\n\\nCameron gave no timetable for his departure but said he wanted a new leader to be in place by October, when his Conservative Party holds its annual conference.\\n\\nHe said the country needed a pro-exit leader to steer it out of the EU, an organization it has been a part of since 1973. That process could take at least two years.\\n\\nBoris Johnson, the former mayor of London who campaigned for the UK’s departure from the EU, is tipped by bookmakers as Cameron’s likely successor.\\n\\nJohnson, who was greeted by a booing crowd when he left his home on Friday morning, thanked voters for their decision, pledged that the UK would remain committed to Europe and urged unity.\\n\\n“I think the electorate have searched in their hearts and answered as honestly as they can,” he said. “They have decided to vote to take back control from a European Union that has become too remote.”\\n\\nFormer PM: There will be costs\\n\\nFormer British Prime Minister Tony Blair told CNN’s Wolf Blitzer that UK voters would learn over the next 24 months that leaving Europe will not solve their economic troubles, ease their apprehensions or make Britain more independent in a meaningful way.\\n\\n“I literally cannot think of a big decision that I was not able to take because of Europe,” Blair said. “There is so much anger at the moment that the anger replaces the more rational answers.”\\n\\nBlair noted that the United States was facing the same type of political fracturing, brought on by economic turmoil, globalization and anger at immigration.\\n\\n“Getting out of Europe is not the answer,” he said, noting the UK sells half of its goods and services to the EU. “We are going to have to negotiate ourselves back into that market and it will be much more difficult than these people understand.”\\n\\nPossible Scottish independence vote\\n\\nIn Scotland, where support was overwhelmingly in favor of remaining in the EU, Nicola Sturgeon, Scotland’s First Minister and leader of the dominant Scottish National Party, said the outcome threw into doubt the future of her country’s place in the UK.\\n\\nShe said the Scottish government will begin preparing legislation for a new independence referendum if the Scottish Parliament decides it wants to hold one. Scots voted down a bid for independence from the UK in 2014.\\n\\n“Democratically unacceptable,” said Sturgeon in describing the fact that Scotland would be pulled out of the European Union despite the majority of the Scottish people voting to stay in.\\n\\nMORE: What does Brexit mean for you?\\n\\nSinn Fein calls for Irish unity\\n\\nThe Sinn Féin party in Northern Ireland called for a referendum on Irish unity, which could take Northern Ireland out of the UK and join it with the Republic of Ireland, an EU member.\\n\\nVoters in Northern Ireland voted for the UK to remain in the EU.\\n\\nSinn Féin President Gerry Adams said the Brexit result could portend tougher border rules – with barriers and custom posts – between Northern Ireland and the Republic of Ireland, because it will be the only land border between the EU and the UK.\\n\\nAdams said such a result would be unacceptable given the vote result in Northern Ireland and could undermine the cooperative relationships and that have developed between the two Irelands since the Good Friday agreement.\\n\\n“My issue is the north of Ireland is going to be dragged out of the EU on the decision made by people on another island,” said Adams, whose political party is dedicated to the reunification of Ireland.\\n\\n“We’re calling for a poll, a referendum, on Irish unity, on the border. This (the Brexit vote) has the potential to set back the good work that’s been done in terms of the peace process, building harmony, building infrastructure.”\\n\\n‘Dying’ institution\\n\\nAs European leaders faced their own crises, German Chancellor Angela Merkel stressed the “need to make sure that European people feel that the EU wants to improve all our lives.”\\n\\nShe said she greatly regretted the UK’s decision, but added, “The EU is strong enough to find the right answers today.”\\n\\nFrench President Francois Hollande called it a “painful choice which I deeply regret for the UK and Europe.”\\n\\nItaly’s finance minister, Pier Carlo Padoan, warned of a domino effect amid calls for further exit votes.\\n\\nFar-right Dutch politician Geert Wilders congratulated the UK on its decision and called for a Dutch referendum on EU membership.\\n\\n“We want to be in charge of our own country, our own money, our own borders and our own immigration policy,” he was quoted as saying in a statement on his website.\\n\\nMarine Le Pen, the leader of France’s National Front party who plans to run for the French presidency next year, also congratulated the Brexit side.\\n\\nHer party has suggested the French will also hold an “out” referendum if she assumes the presidency.\\n\\nPassions continued to run high in the UK in the hours after the vote, with UK Independence Party (UKIP) leader and Leave campaigner Nigel Farage declaring the EU a “dying” institution.\\n\\n“We’ve given ourselves the chance to rejoin the world,” he told journalists. “June 23rd needs to become a national bank holiday and we will call it Independence Day.”\\n\\nU.S. President Barack Obama said that while the UK’s relationship with Europe was changing, the ties that bound the UK to the United States and the United States to Europe would remain.\\n\\n“I do think yesterday’s vote speaks to ongoing changes and challenges that are raised by globalization, but the UK’s relationship with the EU will change. What will not change is the special relationship that exists between our two nations,” Obama said. “That will endure. And the EU will remain one of our indispensable partners.”\\n\\nMORE: Full coverage of the UK referendum\\n\\nNATO: UK will stay a strong ally\\n\\nNATO Secretary-General Jens Stoltenberg voiced reassurances that the United Kingdom will remain a strong and committed NATO ally despite the vote.\\n\\n“Today, as we face more instability and uncertainty, NATO is more important than ever as a platform for cooperation among European allies and between Europe and North America,” said Stoltenberg. “A strong, united and determined NATO remains an essential pillar of stability in a turbulent world and a key contributor to international peace and security.”\\n\\nVoters react\\n\\nThe referendum followed one of the most divisive political campaigns in recent memory. Polls consistently showed voters split down the middle, with the outcome too close to call ahead of the vote.\\n\\nNews of the decision sparked strong emotions, with those in favor and those against reflecting on a campaign marred by allegations of lies, distrust and hate.\\n\\n“This is so sad,” said Daniel Trilling on Twitter. “Millions of people aren’t going to feel any more in control of their lives or their country because of this vote.”\\n\\n“People vote on emotion,” Twitter user @cemanthe posted. “This was won on false promises and emotive texts about immigration. Not on facts.”\\n\\n“I am SO happy this morning,” wrote another, Gemma.\\n\\nAn online petition calling for a second referendum gathered more than 120,000 signatures within hours of being posted.\\n\\nLeading political figures gave mixed reactions.\\n\\nTony Blair, the former UK prime minister, called the decision a divided result.\\n\\n“It’s going to be a complicated process but it’s important to bring our country together and stabilize our country,” he told CNN’s Becky Anderson. “It’s still a resilient country and it’s a strong country.”\\n\\nSadiq Khan, the mayor of largely pro-EU London, said the decision was a “clear message” and urged calm.\\n\\n‘Taking back control’\\n\\nEuropean Council President Donald Tusk said the decision was “historic, but not a moment for hysterical reactions.”\\n\\nDonald Trump, the presumptive Republican nominee in the U.S. presidential election, hailed the UK’s decision to “reassert control over their own politics, borders and economy.”\\n\\nIn a news conference Friday as he attended the official opening of a remodeled golf resort bearing his name in Turnberry, Scotland, Trump called the decision of the voters “a great thing.”\\n\\n“They’re angry over borders, they’re angry over people coming into the country and taking over. Nobody even knows who they are,” he said. “They’re angry about many, many things. They took back control of their country.”\\n\\nUKIP’s Farage told CNN’s Nima Elbagir that the economic fears in the wake of the EU departure were overstated, and that he expected an even better relationship with the United States. He said the vote was a repudiation of bullying tactics by corporate and political powers to keep the UK in the EU.\\n\\n“(We were) threatened by everybody that if we didn’t stay part of this political union, dreadful things would happen to us, and what happened were the little people, the regular people, the ordinary people said, ‘No, this is wrong,’” Farage said.\\n\\n“When you really think about it, what we’ve done isn’t actually that radical. … We want to be a democratic nation. We want to make our own laws in our own parliament, have our own supreme court, and control our own border. If you think about, there’s now 183 countries around the world that have independence days. What we did yesterday was become 184th.”\\n\\nOpinion: Why Brexit vote should worry Trump\\n\\nMarkets plunge\\n\\nThe effects of the vote outcome were immediately felt in markets and economies around the world.\\n\\nIn New York, the Dow ended the day down more than 611 points, to close at 17,399. London’s FTSE index shed $164 billion of its value in the first 10 minutes of trading, but regained ground later in the day.\\n\\nThe NASDAQ index fell more than 4% and into a correction, or down 10% from recent highs.\\n\\nThe British pound at one point plunged more than 12% to below $1.34, its lowest level since 1985. Japan’s Nikkei tanked 6.7% and Hong Kong’s main index dropped 3.7%.\\n\\nBank of England Governor Mark Carney said the body is “well prepared” and “won’t hesitate” to take additional measures as markets adjust.\\n\\nThe “UK financial system is resilient,” he added.'}, {'title': 'What Is Brexit?', 'link': 'https://www.usnews.com/news/best-countries/articles/2016-06-22/what-is-brexit', 'snippet': \"U.K. citizens may vote to leave the EU. Here's a breakdown of the nation's relationship with the region.\", 'date': '107 months ago', 'source': 'U.S. News & World Report', 'imageUrl': 'https://encrypted-tbn0.gstatic.com/images?q=tbn:ANd9GcQPCTmCfdbHOTRRze7brBgPLaeuqjHA6B8PrexfhipqVi8Qg7-n9VsPLf8BWQ&s', 'position': 5, 'parsed_date': '2016-08', 'content': 'On June 23, U.K. citizens will head to the polls to answer one question: \"Should the United Kingdom remain a member of the European Union or leave the European Union?\"\\n\\nThe decision to leave would rattle an establishment that has been in operation for decades. The EU is an economic and political partnership between 28 member nations committed to the prosperity of the region as a whole. Britain joined the European Economic Community, which would later be absorbed into the EU, in 1973 and has been a valuable contributing member since.\\n\\nBut in recent years, anti-European rumblings have become more pronounced in the country.\\n\\nIn 2013, in response to public outcries and increasing pressure from members of Parliament, Prime Minister David Cameron pledged to hold a referendum on the U.K.\\'s membership in the European Union if his Conservative Party won the next election. The party won, and Cameron made good on his commitment when the June 23 date was set in February.\\n\\nCameron laid out a plan in late 2015 that attempted to change the terms of the U.K.\\'s membership in the EU without leaving the group. His efforts fell short in a deal that was finalized with EU leaders in early 2016, and \"Brexit\" – a splice of \"Britain\" and \"exit\" – was born. The nation has since divided itself into the \"remain\" camp – including Cameron and former Prime Minister Tony Blair – and the \"leave\" camp – including former London Mayor Boris Johnson.\\n\\nThe decision that faces U.K. citizens is a political, economic and emotional one, shrouded by uncertain outcomes and largely without precedence (the U.K. held a similar referendum vote in 1975, but 67 percent of citizens voted to stay). Here are a few charts that explain what is known about Brexit and the U.K.\\'s relationship with the EU.\\n\\nThe EU represents 508 million people from 28 member states. The nations cumulatively comprise about a fourth of the world\\'s economic output, totaling $18.5 billion in 2014, and the U.K.\\'s gross domestic product accounts for about 15 percent of the EU\\'s total product.\\n\\nEach member nation contributes a monthly sum to the EU\\'s operating budget based on a tax formula in return for policies and programs that benefit the region. In pure budgetary terms, a number of countries that contribute most to the EU\\'s operating budget stand to gain least from EU expenditures. In 2014, the U.K. gave nearly $5.5 billion more to the EU than it took from the budget, accounting for 8 percent of total national contributions, but less than 5 percent of the EU\\'s total expenditures, according to the European Commission . Germany had an even greater negative balance – more than $17 billion after contributing 18 percent of the budget. Italy had a negative balance of $5 billion after contributing 10 percent of the budget.\\n\\nEU-funded initiatives in the U.K. highlighted by the European Commission include a $78 million investment in Superfast Cornwall, a commitment to connect at least 80 percent of homes and business in the rural county to \"fibre-optic superfast broadband,\" and an $8 million investment in the Scottish Centre for Regenerative Medicine to fund the construction of new facilities for stem cell research.\\n\\nThe \"free movement of people is one of the EU\\'s fundamental principles,\" according to the EU freedom of movement and residence directive passed in 2004. Nearly 3 million people from other EU countries have migrated to the U.K., according to the United Nations Population Division , and 1.2 million from the U.K. have moved elsewhere in the Union. And while the U.K. remains a member of the EU, these 4 million migrants have the \"right to move freely and live in another EU country,\" but there is no precedent as to what happens to those from a country or living in a country that removes itself from the EU.\\n\\nIn addition to people, goods, services and money are able to move freely within the EU\\'s single market as if it were one country. Free trade within EU borders is supposed to mutually benefit all member nations and attract international partnerships to a large European trade bloc. U.S. President Barack Obama said that the U.K. would be at the \"back of the queue\" for a trade deal if it votes to leave the EU and that it could take a decade to negotiate a new agreement. The U.S. is currently the U.K.\\'s largest export destination.\\n\\nResults of the referendum have been tough to predict. Many polls consistently report a split of less than 5 percentage points. Generally, though, the majority of younger people and richer people say they will vote \"remain,\" while the majority of older people and poorer people say they will vote \"leave.\"\\n\\nThe views of other EU citizens are much clearer: they want the U.K. to remain part of the club. \"France is the only country where more than a quarter of the public says it would be positive for the EU if the UK departed,\" according to a Pew Research Center report from April. In an earlier survey of 28,000 European voters by Lord Michael Ashcroft, former deputy chairman of the Conservative Party who has become known for his political polls, only 10 percent said they would like the U.K. to leave the EU. Sixty percent of those surveyed said they would prefer the U.K. stay in the EU, and 30 percent said it didn\\'t matter. At 24 percent, Luxembourg had the highest portion of people who said they would prefer the U.K. to leave the EU, and Lithuania had the highest portion of people that would prefer the U.K. to stay.\\n\\nBritish and Irish citizens who live in the U.K. and are older than 18 can vote on the referendum, as long as they registered to vote before the June 9 deadline. A record number of 525,000 applications on June 6 caused the government registration website to crash and spurred an extension of the initial June 7 deadline. More than 1 million people registered to vote in the last days before the deadline.\\n\\nAlso eligible to vote are British and Irish citizens living abroad who have been registered to vote for at least 15 years and Commonwealth citizens living in the U.K.\\n\\nIf U.K. citizens vote \"leave,\" transitioning out of the EU could effectively take years. But pressure on the voters is much more immediate; they\\'ll have to make up their minds before heading to the polls this week.'}, {'title': 'Britain wiser to remain in European Union, Stanford scholar says', 'link': 'https://news.stanford.edu/stories/2016/06/britain-wiser-remain-european-union-stanford-scholar-says', 'snippet': \"A British exit from the European Union would slow economic growth, reduce Europe's impact in world politics, and strengthen regimes such as...\", 'date': '107 months ago', 'source': 'Stanford Report', 'imageUrl': 'https://encrypted-tbn0.gstatic.com/images?q=tbn:ANd9GcT31yN_-crO0KWck9AKi4v86akCVMyqfQ7eaSC7N_Vf9z7ZCy_PgoZCa_A_mQ&s', 'position': 8, 'parsed_date': '2016-08', 'content': 'The United Kingdom would lose more than gain if it left the European Union, a Stanford scholar said.\\n\\nWhether the United Kingdom should remain part of the European Union will be determined in a British referendum on June 23. Stanford lecturer Christophe Crombez recommends the UK remain in the EU. (Image credit: gOd4ather / Shutterstock)\\n\\nSo would other European nations, and the real winners would be countries that seek to divide European unity, said Christophe Crombez, a consulting professor in Stanford’s Europe Center in the Freeman Spogli Institute for International Studies.\\n\\nBritain is holding a referendum on June 23 to decide whether the country should leave or remain in the European Union.\\n\\n“It would bring but an illusion of sovereignty,” said Crombez, who studies European Union politics, parliamentary systems, political economy and economic analysis of political institutions. He is an economist from Belgium.\\n\\nThe Stanford News Service recently interviewed Crombez on the upcoming vote, known as “Brexit.”\\n\\nWhat is Brexit?\\n\\nThe term Brexit refers to the United Kingdom’s withdrawal from the European Union. Article 50 of the Treaty on European Union allows member states to withdraw.\\n\\nWhat are the arguments for and against Brexit?\\n\\nThe campaign for the UK to leave the EU uses the following main arguments: leaving would save UK taxpayers money, since the UK is a net contributor to the EU budget; the UK would no longer have to comply with EU laws it does not want, whereas currently it can be outvoted in EU institutions and forced to adopt laws it opposes; and it would allow the UK to better control migration, whereas EU citizens are currently free to move and work throughout the EU.\\n\\nThese three arguments can easily be refuted, however. The UK does indeed contribute to the EU budget, but the benefits it derives from being part of the EU market far outweigh the budgetary contributions. Moreover, (if Britain were to withdraw) the EU would require the UK to pay into its budget, if it wants to remain part of the EU’s internal market, as it has done with Switzerland and Norway.\\n\\nAlso, about half of UK exports are destined for the EU. If the UK were to leave, it would no doubt want to continue to trade with the EU. UK products would have to conform to EU rules for them to be sold in the EU. UK companies that want to export to the EU would thus continue to comply with EU rules. The difference would be that the UK would no longer be involved in setting those EU rules. Post-Brexit, the rules would thus be less to the UK’s liking than prior to it, and UK companies would comply to these less advantageous rules.\\n\\nFinally, the EU would impose requirements on immigration and free movement of people on the UK in exchange for free trade with the EU, as it has with other countries in similar situations, such as Norway and Switzerland. Moreover, member states may no longer feel inclined to stop refugees from moving on to the UK if the UK were to leave, which may lead to higher rather than lower immigration.\\n\\nIn addition to these arguments, the Britain Stronger in Europe campaign (which supports the UK remaining in the EU) argues that Britain carries more weight in world politics as part of the EU than on its own, in trade negotiations as well as on security issues, and that a united Europe is better at dealing with (Russian President Vladimir) Putin and other authoritarian rulers, terrorist threats and international crime.\\n\\nWhat do you think is the best decision for the United Kingdom to make on this vote?\\n\\nI see no advantages to leaving the EU. It would bring but an illusion of sovereignty – consider the points above. The vote would have a negative impact on growth in the UK and the rest of the EU and, in fact, the world, and it would weaken the UK, the EU and the West in world politics.\\n\\nWhat happens economically to Britain if the country leaves the European Union?\\n\\nTrade and hence gross domestic product would be negatively affected, especially in the short term. Uncertainty would reduce investment and trade. The UK and the EU would be consumed with the negotiations on the break-up for years. This would prevent both the UK and EU from tackling more important economic and security issues. In the long term, the economy would readjust, but the result would be suboptimal.\\n\\nWhat happens to the EU if Britain leaves?\\n\\nThe EU is less dependent on trade with the UK than vice versa. There would be an economic impact, but it would be less substantial. The effect would be more significant for a few countries that trade more with the UK, such as Ireland, Belgium and the Netherlands.\\n\\nBrexit would, however, deliver a major blow to the idea of European unification. It would weaken the EU impact in world politics and strengthen such rulers as Putin and (Turkish President Recep Tayyip) Erdogan in their dealings with the EU.\\n\\nCould a British exit open up a Pandora’s Box of other EU countries exiting or spark other regional independence movements, like Catalonia?\\n\\nThat is quite possible. A number of other countries may want to hold referendums on the EU. Moreover, Brexit is likely to lead to a break-up of the UK. Scotland would likely hold another referendum and decide to leave the UK in order to stay in the EU. The same may be true for Northern Ireland in the long run. Scottish secession may then give other EU regions, such as Catalonia, further incentives to secede.'}, {'title': 'Brexit is a reminder that some things just shouldn’t be decided by referendum', 'link': 'https://www.washingtonpost.com/news/wonk/wp/2016/06/27/brexit-is-a-reminder-some-things-just-shouldnt-be-decided-by-the-people/', 'snippet': 'Since British voters elected on Thursday to leave the European Union, signs have quickly emerged of the flaws in holding a referendum on...', 'date': '107 months ago', 'source': 'The Washington Post', 'imageUrl': 'https://encrypted-tbn0.gstatic.com/images?q=tbn:ANd9GcRkDEyP2n2l9pllTgE2Nv71lyNSPuNLnznM3tjPp2J_MKaI6blkWlLWErtMvg&s', 'position': 10, 'parsed_date': '2016-08', 'content': 'Since British voters elected on Thursday to leave the European Union, signs have quickly emerged of the flaws in holding a referendum on such a messy, massive, far-reaching decision. Politicians responsible for explaining what\\'s at stake have admitted they may have fudged some of the consequences. Nigel Farage, leader of the U.K. Independence Party, acknowledged Friday merely an hour after the election was called that one of the Leave campaign\\'s key promises to voters was inaccurate. Brexit backers pledged that money the U.K. currently sends to the E.U. — supposedly £350 million ($462 million) a week — would go to the country\\'s national health system instead. Former London mayor Boris Johnson even drove around Britain in a bus blaring that message.\\n\\nOn Friday, Farage called that claim a \"mistake.\" (Kudos to the incredulous TV reporter who then followed up: \"Do you think there are other things people will wake up this morning and find out aren\\'t going to happen as a result of voting this way?\")\\n\\nAdvertisement\\n\\nBritons react to cutting ties with the European Union + 53 In late June, many celebrated the referendum results, and British Prime Minister David Cameron announced that he will resign after Britons went to the polls.\\n\\nResidents of relatively poor Cornwall, meanwhile, had been promised they would lose none of the E.U. subsidies the county heavily relies on if Britain were to leave the bloc. Cornwall officials, The Washington Post\\'s Rick Noack writes, are now fretting that wasn\\'t true either.\\n\\nNot surprisingly, after the value of the British pound plummeted and global stocks tanked Friday, British media have also been full of stories of voters saying they regretted their decision. Some said they merely thought they were lodging a protest vote — they didn\\'t think Brexit would actually happen. Others actually called election workers wondering if they could change their vote. This woman remarkably said every voting member of her family made a mistake:\\n\\nMeanwhile, more than three million Brits as of Sunday morning had already called for do-over. And critics have recounted scathingly that the whole crisis originated because Prime Minister David Cameron was trying to escape a political bind back in 2013 — hardly a grand rationale for a massive experiment in direct democracy.\\n\\nAdvertisement\\n\\nAll of this was, perhaps, predictable, as some political scientists and historians have warned that a simple yes-or-no public referendum can be a terrible way to make a decision with such complex repercussions. The process looks like direct democracy in its purest form, and it was celebrated as such by many Leave campaigners after the vote. But David A. Bell, a Princeton historian writing in The New Republic four years ago as Greece was preparing for a referendum on its bailout, argues that the result of referendums is much more often anti-democratic.\\n\\nHe divides referendums into two categories: The first implicates fundamental questions of sovereignty (should Quebec become independent, or Scotland break away from Great Britain?). These kinds of referendums are appropriate, Bell argues: \"They represent instances when sovereign power, always ultimately held by the people, but mediated by constitutional structures, temporarily reverts to the people directly, so that they can modify or replace these structures.\"\\n\\nThen there are referendums about questions that would otherwise be handled by the legislatures the people have already elected:\\n\\nAdvertisement\\n\\nIt is certainly tempting to salute this second form of referendum as a means of checking the seamy practices that too often infect modern representative systems. But however much the designers of referendums claim to be acting in the name of democratic reform, their actions usually end up undercutting democratic institutions. This tendency isn’t merely incidental — it’s unavoidable given how referendums work. First, they take relatively technical issues away from legislators who have the time and expertise to deal with them, and give them to voters who do not.\\n\\nReferendums also tend to make legislating in the future much harder, by casting policies as constitutional changes that are hard to dislodge. And, Bell argues, they undermine the legitimacy of legislatures by suggesting that real democracy can only come directly from the people instead.\\n\\nIn a world where all kinds of decisions that should be made by legislators are made by referendums instead, we get, well, California — a state where ballot initiatives rule what happens to individual bonds and bag taxes and even proposed buildings. Back in 1978, California voters generously decided in a ballot measure to cap their own property taxes in a way — amending the state constitution — that has hobbled ever since California\\'s ability to generate revenue and create reasonable housing policy.\\n\\nLast year\\'s Supreme Court decision upholding gay marriage also underscored another drawback of referendums: Give people a chance at the ballot box, and they may also trample minority rights.\\n\\nAdvertisement\\n\\nTo come back to Bell\\'s distinction about the two different kinds of referendums, the Brexit vote arguably looks a little like both. Brexit supporters certainly cast the question as one of fundamental sovereignty and \"independence\" from Europe (as did Donald Trump, with his praise of voters who wanted to \"take back their country\"). But the proposition at hand also raised the kinds of thorny debates we elect government officials to hash out: Do the benefits of the E.U. justify those payments? Will the costs of leaving cripple the British economy? Will \"independence\" bring new forms of instability that voters haven\\'t even been encouraged to foresee?\\n\\nMartin Kettle, an editor at the Guardian in the U.K., argued last Thursday, before the final vote, that Brexit should itself be a referendum on referendums, \"now the weapon of choice for populist parties of left and right\":\\n\\nThere may, in certain circumstances, be an argument for referendums in our politics. But the argument has to be better than that we have had some referendums in the past or that a lot of the public would like one. People will always agree they want a say. Yet it is far from obvious that a system of referendums strengthens trust in democracy. Neither Ireland nor Switzerland, where referendums are more common, seem to vindicate that. Germany’s constitution is strongly rooted in the opposite view. And if an issue is major enough to require a referendum, why is it not major enough to require a high level of turnout or an enhanced majority of those voting, as should be the norm?'}]}\n",
      "<class 'list'>\n"
     ]
    }
   ],
   "source": [
    "from utils import set_doc_uuid, read_file, write_file\n",
    "data = read_file(\"../data/raw_docs.json\")\n",
    "print(type(data))\n",
    "print(data[0])\n",
    "data = set_doc_uuid(data)\n",
    "print(type(data))\n",
    "write_file(data, \"../data/docs_with_uuid.json\")"
   ]
  },
  {
   "cell_type": "code",
   "execution_count": 1,
   "id": "1ff2b323",
   "metadata": {},
   "outputs": [],
   "source": [
    "# 分布图\n",
    "from matplotlib import pyplot as plt\n",
    "from typing import List\n",
    "def plot_distribution(data: List[int], title: str = \"Distribution\", xlabel: str = \"Value\", ylabel: str = \"Frequency\", bins: int = 30):\n",
    "    plt.hist(data, bins=bins, edgecolor='black')\n",
    "    plt.title(title)\n",
    "    plt.xlabel(xlabel)\n",
    "    plt.ylabel(ylabel)\n",
    "    plt.grid(axis='y', alpha=0.75)\n",
    "    plt.show()"
   ]
  },
  {
   "cell_type": "code",
   "execution_count": 3,
   "id": "cf80894c",
   "metadata": {},
   "outputs": [
    {
     "data": {
      "image/png": "[encoded data removed]",
      "text/plain": [
       "<Figure size 640x480 with 1 Axes>"
      ]
     },
     "metadata": {},
     "output_type": "display_data"
    }
   ],
   "source": [
    "from utils import  get_length_distri, read_file, write_file\n",
    "import os\n",
    "os.environ['NLTK_DATA'] = '/home/yangmingxuan/nltk_data'\n",
    "data = read_file(\"../data/raw_docs.json\")\n",
    "lengths = get_length_distri(data, \"docs\")\n",
    "plot_distribution(lengths, title=\"Document Length Distribution\", xlabel=\"Length\", ylabel=\"Frequency\", bins=50)"
   ]
  },
  {
   "cell_type": "code",
   "execution_count": 1,
   "id": "7513dbeb",
   "metadata": {},
   "outputs": [],
   "source": [
    "from utils import set_pairs\n",
    "set_pairs('../data/raw_docs.json', '../data/doc_smy_pairs.jsonl', 'summary')"
   ]
  },
  {
   "cell_type": "code",
   "execution_count": 2,
   "id": "494e6611",
   "metadata": {},
   "outputs": [],
   "source": [
    "from utils import convert_to_json_list\n",
    "convert_to_json_list('./_summary.jsonl', '../data/raw_docs_summary.json')"
   ]
  },
  {
   "cell_type": "code",
   "execution_count": 3,
   "id": "35c78377",
   "metadata": {},
   "outputs": [],
   "source": [
    "set_pairs('../data/raw_docs_summary.json', '../data/doc_event_pairs.jsonl', 'events')"
   ]
  },
  {
   "cell_type": "code",
   "execution_count": 4,
   "id": "b5f88eee",
   "metadata": {},
   "outputs": [],
   "source": [
    "convert_to_json_list('./_events.jsonl', '../data/raw_docs_events.json')"
   ]
  },
  {
   "cell_type": "code",
   "execution_count": null,
   "id": "80a25255",
   "metadata": {},
   "outputs": [],
   "source": [
    "{\n",
    "    'topic_id': '',\n",
    "    'topic': '',\n",
    "    'timeline': [\n",
    "        {\n",
    "            'event': '',\n",
    "            'position': [],\n",
    "        }\n",
    "    ]\n",
    "}"
   ]
  },
  {
   "cell_type": "code",
   "execution_count": 1,
   "id": "6309ff43",
   "metadata": {},
   "outputs": [
    {
     "data": {
      "text/plain": [
       "[10, 16, 14, 13, 10, 10, 12, 12, 11, 12]"
      ]
     },
     "execution_count": 1,
     "metadata": {},
     "output_type": "execute_result"
    }
   ],
   "source": [
    "from utils import count_timeline_nodes\n",
    "count_timeline_nodes('../data/timeline.jsonl')"
   ]
  },
  {
   "cell_type": "code",
   "execution_count": 1,
   "id": "49807638",
   "metadata": {},
   "outputs": [],
   "source": [
    "from utils import make_pairs_from_timeline\n",
    "make_pairs_from_timeline('../data/timeline.jsonl', '../data/raw_docs_events.json')"
   ]
  },
  {
   "cell_type": "code",
   "execution_count": 1,
   "id": "6c9548bd",
   "metadata": {},
   "outputs": [],
   "source": [
    "from utils import get_annotation_res\n",
    "get_annotation_res([\n",
    "    '../data/gemini-2.0-flash_causal_score.jsonl',\n",
    "    '../data/claude-3-7-sonnet-20250219_causal_score.jsonl',\n",
    "    '../data/gpt-4.1_causal_score.jsonl'\n",
    "])"
   ]
  },
  {
   "cell_type": "code",
   "execution_count": null,
   "id": "9293352f",
   "metadata": {},
   "outputs": [],
   "source": [
    "from utils import repair_event_pairs\n",
    "repair_event_pairs('../data/timeline.jsonl', '../data/event_pairs_bkp.jsonl')"
   ]
  },
  {
   "cell_type": "code",
   "execution_count": 2,
   "id": "881f1200",
   "metadata": {},
   "outputs": [
    {
     "name": "stdout",
     "output_type": "stream",
     "text": [
      "Total: 195, Score: 84.5, Accuracy: 0.4333\n"
     ]
    },
    {
     "data": {
      "text/plain": [
       "0.43333333333333335"
      ]
     },
     "execution_count": 2,
     "metadata": {},
     "output_type": "execute_result"
    }
   ],
   "source": [
    "from utils import get_mcq_score\n",
    "get_mcq_score('../data/claude-3-7-sonnet-20250219_mcq_fix.jsonl', '../data/mcq_fix.jsonl')"
   ]
  },
  {
   "cell_type": "code",
   "execution_count": 3,
   "id": "7383b95b",
   "metadata": {},
   "outputs": [
    {
     "name": "stdout",
     "output_type": "stream",
     "text": [
      "Total: 196, Score: 94.0, Accuracy: 0.4796\n"
     ]
    },
    {
     "data": {
      "text/plain": [
       "0.47959183673469385"
      ]
     },
     "execution_count": 3,
     "metadata": {},
     "output_type": "execute_result"
    }
   ],
   "source": [
    "get_mcq_score('../data/gemini-2.0-flash_mcq_fix.jsonl', '../data/mcq_fix.jsonl')"
   ]
  },
  {
   "cell_type": "code",
   "execution_count": 4,
   "id": "4738286e",
   "metadata": {},
   "outputs": [
    {
     "name": "stdout",
     "output_type": "stream",
     "text": [
      "Total: 196, Score: 95.5, Accuracy: 0.4872\n"
     ]
    },
    {
     "data": {
      "text/plain": [
       "0.4872448979591837"
      ]
     },
     "execution_count": 4,
     "metadata": {},
     "output_type": "execute_result"
    }
   ],
   "source": [
    "get_mcq_score('../data/gpt-4.1-mini_mcq_fix.jsonl', '../data/mcq_fix.jsonl')"
   ]
  },
  {
   "cell_type": "code",
   "execution_count": 4,
   "id": "92394b84",
   "metadata": {},
   "outputs": [
    {
     "name": "stdout",
     "output_type": "stream",
     "text": [
      "Total: 193, Score: 113.5, Accuracy: 0.5881\n"
     ]
    },
    {
     "data": {
      "text/plain": [
       "0.5880829015544041"
      ]
     },
     "execution_count": 4,
     "metadata": {},
     "output_type": "execute_result"
    }
   ],
   "source": [
    "from utils import get_mcq_score\n",
    "get_mcq_score('../data/pred_data/gpt-4.1_icl_mcq_fix.jsonl', '../data/mcq_fix.jsonl')"
   ]
  },
  {
   "cell_type": "code",
   "execution_count": 5,
   "id": "279c0ec0",
   "metadata": {},
   "outputs": [
    {
     "name": "stdout",
     "output_type": "stream",
     "text": [
      "Total: 193, Score: 94.5, Accuracy: 0.4896\n"
     ]
    },
    {
     "data": {
      "text/plain": [
       "0.4896373056994819"
      ]
     },
     "execution_count": 5,
     "metadata": {},
     "output_type": "execute_result"
    }
   ],
   "source": [
    "get_mcq_score('../data/pred_data/claude-3-7-sonnet-20250219_icl_mcq_fix.jsonl', '../data/mcq_fix.jsonl')"
   ]
  },
  {
   "cell_type": "code",
   "execution_count": 1,
   "id": "859a66a5",
   "metadata": {},
   "outputs": [
    {
     "name": "stdout",
     "output_type": "stream",
     "text": [
      "Total: 193, Score: 102.5, Accuracy: 0.5311\n"
     ]
    },
    {
     "data": {
      "text/plain": [
       "0.5310880829015544"
      ]
     },
     "execution_count": 1,
     "metadata": {},
     "output_type": "execute_result"
    }
   ],
   "source": [
    "from utils import get_mcq_score\n",
    "get_mcq_score('../data/pred_data/gemini-2.0-flash_icl_mcq_fix.jsonl', '../data/mcq_fix.jsonl')"
   ]
  },
  {
   "cell_type": "code",
   "execution_count": 2,
   "id": "6dda1734",
   "metadata": {},
   "outputs": [
    {
     "name": "stdout",
     "output_type": "stream",
     "text": [
      "Total: 103, Score: 58.5, Accuracy: 0.5680\n"
     ]
    },
    {
     "data": {
      "text/plain": [
       "0.5679611650485437"
      ]
     },
     "execution_count": 2,
     "metadata": {},
     "output_type": "execute_result"
    }
   ],
   "source": [
    "get_mcq_score('../data/pred_data/Llama-3.3-70B-Instruct-Turbo-Free_icl_mcq_fix.jsonl', '../data/mcq_fix.jsonl')"
   ]
  },
  {
   "cell_type": "code",
   "execution_count": 2,
   "id": "13854d22",
   "metadata": {},
   "outputs": [
    {
     "name": "stdout",
     "output_type": "stream",
     "text": [
      "Total: 192, Score: 81.5, Accuracy: 0.4245\n"
     ]
    },
    {
     "data": {
      "text/plain": [
       "0.4244791666666667"
      ]
     },
     "execution_count": 2,
     "metadata": {},
     "output_type": "execute_result"
    }
   ],
   "source": [
    "from utils import get_mcq_score\n",
    "get_mcq_score('../data/pred_data/gpt-4.1_icl_cot_mcq_fix.jsonl', '../data/mcq_fix.jsonl')"
   ]
  },
  {
   "cell_type": "code",
   "execution_count": 1,
   "id": "927c9b1b",
   "metadata": {},
   "outputs": [
    {
     "name": "stdout",
     "output_type": "stream",
     "text": [
      "Total: 193, Score: 91.5, Accuracy: 0.4741\n"
     ]
    },
    {
     "data": {
      "text/plain": [
       "0.4740932642487047"
      ]
     },
     "execution_count": 1,
     "metadata": {},
     "output_type": "execute_result"
    }
   ],
   "source": [
    "from utils import get_mcq_score\n",
    "get_mcq_score('../data/pred_data/claude-3-7-sonnet-20250219_icl_cot_mcq_fix.jsonl', '../data/mcq_fix.jsonl')"
   ]
  },
  {
   "cell_type": "code",
   "execution_count": 1,
   "id": "3185f014",
   "metadata": {},
   "outputs": [
    {
     "name": "stdout",
     "output_type": "stream",
     "text": [
      "Total: 193, Score: 109.5, Accuracy: 0.5674\n"
     ]
    },
    {
     "data": {
      "text/plain": [
       "0.5673575129533679"
      ]
     },
     "execution_count": 1,
     "metadata": {},
     "output_type": "execute_result"
    }
   ],
   "source": [
    "from utils import get_mcq_score\n",
    "get_mcq_score('../data/pred_data/gemini-2.0-flash_icl_cot_mcq_fix.jsonl', '../data/mcq_fix.jsonl')"
   ]
  },
  {
   "cell_type": "code",
   "execution_count": null,
   "id": "fca995dc",
   "metadata": {},
   "outputs": [
    {
     "data": {
      "text/plain": [
       "{'topic': '', 'event_a': '', 'event_context1': ''}"
      ]
     },
     "execution_count": 1,
     "metadata": {},
     "output_type": "execute_result"
    }
   ],
   "source": [
    "{\n",
    "  \"topic\": \"\",\n",
    "  \"event1\": \"\",\n",
    "  \"event1_context\": \"\",\n",
    "  \"event2\": \"\",\n",
    "  \"event2_context\": \"\",\n",
    "  'uuid': '',\n",
    "  'score': '',\n",
    "}"
   ]
  },
  {
   "cell_type": "code",
   "execution_count": 2,
   "id": "0cd5fe8f",
   "metadata": {},
   "outputs": [
    {
     "data": {
      "text/plain": [
       "{'0-20': 64, '20-50': 212, '50-80': 316, '80-100': 195}"
      ]
     },
     "execution_count": 2,
     "metadata": {},
     "output_type": "execute_result"
    }
   ],
   "source": [
    "from utils import get_score_dist\n",
    "score_data = get_score_dist('../data/annotation_data/pairs_with_score.jsonl') # Dist\n",
    "score_data"
   ]
  },
  {
   "cell_type": "code",
   "execution_count": null,
   "id": "dbc7b855",
   "metadata": {},
   "outputs": [],
   "source": [
    "from utils import get_verify_data\n",
    "get_verify_data('../data/event_pairs.jsonl', '../data/annotation_data/pairs_with_score.jsonl', '../data/verify_data.jsonl')"
   ]
  }
 ],
 "metadata": {
  "kernelspec": {
   "display_name": ".venv",
   "language": "python",
   "name": "python3"
  },
  "language_info": {
   "codemirror_mode": {
    "name": "ipython",
    "version": 3
   },
   "file_extension": ".py",
   "mimetype": "text/x-python",
   "name": "python",
   "nbconvert_exporter": "python",
   "pygments_lexer": "ipython3",
   "version": "3.13.3"
  }
 },
 "nbformat": 4,
 "nbformat_minor": 5
}
