{
 "cells": [
  {
   "cell_type": "code",
   "execution_count": 3,
   "id": "9336e531",
   "metadata": {},
   "outputs": [
    {
     "name": "stderr",
     "output_type": "stream",
     "text": [
      "\u001b[32m2025-07-14 14:16:29.339\u001b[0m | \u001b[33m\u001b[1mWARNING \u001b[0m | \u001b[36m__main__\u001b[0m:\u001b[36m<module>\u001b[0m:\u001b[36m8\u001b[0m - \u001b[33m\u001b[1mDocument without uuid: 15\u001b[0m\n",
      "\u001b[32m2025-07-14 14:16:29.340\u001b[0m | \u001b[33m\u001b[1mWARNING \u001b[0m | \u001b[36m__main__\u001b[0m:\u001b[36m<module>\u001b[0m:\u001b[36m8\u001b[0m - \u001b[33m\u001b[1mDocument without uuid: 15\u001b[0m\n",
      "\u001b[32m2025-07-14 14:16:29.341\u001b[0m | \u001b[33m\u001b[1mWARNING \u001b[0m | \u001b[36m__main__\u001b[0m:\u001b[36m<module>\u001b[0m:\u001b[36m8\u001b[0m - \u001b[33m\u001b[1mDocument without uuid: 15\u001b[0m\n",
      "\u001b[32m2025-07-14 14:16:29.341\u001b[0m | \u001b[33m\u001b[1mWARNING \u001b[0m | \u001b[36m__main__\u001b[0m:\u001b[36m<module>\u001b[0m:\u001b[36m8\u001b[0m - \u001b[33m\u001b[1mDocument without uuid: 15\u001b[0m\n",
      "\u001b[32m2025-07-14 14:16:29.341\u001b[0m | \u001b[33m\u001b[1mWARNING \u001b[0m | \u001b[36m__main__\u001b[0m:\u001b[36m<module>\u001b[0m:\u001b[36m8\u001b[0m - \u001b[33m\u001b[1mDocument without uuid: 15\u001b[0m\n",
      "\u001b[32m2025-07-14 14:16:29.341\u001b[0m | \u001b[33m\u001b[1mWARNING \u001b[0m | \u001b[36m__main__\u001b[0m:\u001b[36m<module>\u001b[0m:\u001b[36m8\u001b[0m - \u001b[33m\u001b[1mDocument without uuid: 15\u001b[0m\n",
      "\u001b[32m2025-07-14 14:16:29.341\u001b[0m | \u001b[33m\u001b[1mWARNING \u001b[0m | \u001b[36m__main__\u001b[0m:\u001b[36m<module>\u001b[0m:\u001b[36m8\u001b[0m - \u001b[33m\u001b[1mDocument without uuid: 15\u001b[0m\n",
      "\u001b[32m2025-07-14 14:16:29.342\u001b[0m | \u001b[33m\u001b[1mWARNING \u001b[0m | \u001b[36m__main__\u001b[0m:\u001b[36m<module>\u001b[0m:\u001b[36m8\u001b[0m - \u001b[33m\u001b[1mDocument without uuid: 15\u001b[0m\n",
      "\u001b[32m2025-07-14 14:16:29.342\u001b[0m | \u001b[33m\u001b[1mWARNING \u001b[0m | \u001b[36m__main__\u001b[0m:\u001b[36m<module>\u001b[0m:\u001b[36m8\u001b[0m - \u001b[33m\u001b[1mDocument without uuid: 15\u001b[0m\n",
      "\u001b[32m2025-07-14 14:16:29.342\u001b[0m | \u001b[33m\u001b[1mWARNING \u001b[0m | \u001b[36m__main__\u001b[0m:\u001b[36m<module>\u001b[0m:\u001b[36m8\u001b[0m - \u001b[33m\u001b[1mDocument without uuid: 15\u001b[0m\n",
      "\u001b[32m2025-07-14 14:16:29.342\u001b[0m | \u001b[33m\u001b[1mWARNING \u001b[0m | \u001b[36m__main__\u001b[0m:\u001b[36m<module>\u001b[0m:\u001b[36m8\u001b[0m - \u001b[33m\u001b[1mDocument without uuid: 15\u001b[0m\n",
      "\u001b[32m2025-07-14 14:16:29.342\u001b[0m | \u001b[33m\u001b[1mWARNING \u001b[0m | \u001b[36m__main__\u001b[0m:\u001b[36m<module>\u001b[0m:\u001b[36m8\u001b[0m - \u001b[33m\u001b[1mDocument without uuid: 15\u001b[0m\n",
      "\u001b[32m2025-07-14 14:16:29.342\u001b[0m | \u001b[33m\u001b[1mWARNING \u001b[0m | \u001b[36m__main__\u001b[0m:\u001b[36m<module>\u001b[0m:\u001b[36m8\u001b[0m - \u001b[33m\u001b[1mDocument without uuid: 15\u001b[0m\n",
      "\u001b[32m2025-07-14 14:16:29.343\u001b[0m | \u001b[33m\u001b[1mWARNING \u001b[0m | \u001b[36m__main__\u001b[0m:\u001b[36m<module>\u001b[0m:\u001b[36m12\u001b[0m - \u001b[33m\u001b[1mDocument without uuid: 24\u001b[0m\n",
      "\u001b[32m2025-07-14 14:16:29.343\u001b[0m | \u001b[33m\u001b[1mWARNING \u001b[0m | \u001b[36m__main__\u001b[0m:\u001b[36m<module>\u001b[0m:\u001b[36m12\u001b[0m - \u001b[33m\u001b[1mDocument without uuid: 24\u001b[0m\n",
      "\u001b[32m2025-07-14 14:16:29.343\u001b[0m | \u001b[33m\u001b[1mWARNING \u001b[0m | \u001b[36m__main__\u001b[0m:\u001b[36m<module>\u001b[0m:\u001b[36m12\u001b[0m - \u001b[33m\u001b[1mDocument without uuid: 24\u001b[0m\n",
      "\u001b[32m2025-07-14 14:16:29.343\u001b[0m | \u001b[33m\u001b[1mWARNING \u001b[0m | \u001b[36m__main__\u001b[0m:\u001b[36m<module>\u001b[0m:\u001b[36m12\u001b[0m - \u001b[33m\u001b[1mDocument without uuid: 24\u001b[0m\n",
      "\u001b[32m2025-07-14 14:16:29.343\u001b[0m | \u001b[33m\u001b[1mWARNING \u001b[0m | \u001b[36m__main__\u001b[0m:\u001b[36m<module>\u001b[0m:\u001b[36m12\u001b[0m - \u001b[33m\u001b[1mDocument without uuid: 24\u001b[0m\n",
      "\u001b[32m2025-07-14 14:16:29.343\u001b[0m | \u001b[33m\u001b[1mWARNING \u001b[0m | \u001b[36m__main__\u001b[0m:\u001b[36m<module>\u001b[0m:\u001b[36m12\u001b[0m - \u001b[33m\u001b[1mDocument without uuid: 24\u001b[0m\n",
      "\u001b[32m2025-07-14 14:16:29.344\u001b[0m | \u001b[33m\u001b[1mWARNING \u001b[0m | \u001b[36m__main__\u001b[0m:\u001b[36m<module>\u001b[0m:\u001b[36m12\u001b[0m - \u001b[33m\u001b[1mDocument without uuid: 24\u001b[0m\n",
      "\u001b[32m2025-07-14 14:16:29.345\u001b[0m | \u001b[33m\u001b[1mWARNING \u001b[0m | \u001b[36m__main__\u001b[0m:\u001b[36m<module>\u001b[0m:\u001b[36m12\u001b[0m - \u001b[33m\u001b[1mDocument without uuid: 24\u001b[0m\n",
      "\u001b[32m2025-07-14 14:16:29.345\u001b[0m | \u001b[33m\u001b[1mWARNING \u001b[0m | \u001b[36m__main__\u001b[0m:\u001b[36m<module>\u001b[0m:\u001b[36m12\u001b[0m - \u001b[33m\u001b[1mDocument without uuid: 24\u001b[0m\n",
      "\u001b[32m2025-07-14 14:16:29.345\u001b[0m | \u001b[33m\u001b[1mWARNING \u001b[0m | \u001b[36m__main__\u001b[0m:\u001b[36m<module>\u001b[0m:\u001b[36m12\u001b[0m - \u001b[33m\u001b[1mDocument without uuid: 24\u001b[0m\n",
      "\u001b[32m2025-07-14 14:16:29.345\u001b[0m | \u001b[33m\u001b[1mWARNING \u001b[0m | \u001b[36m__main__\u001b[0m:\u001b[36m<module>\u001b[0m:\u001b[36m12\u001b[0m - \u001b[33m\u001b[1mDocument without uuid: 24\u001b[0m\n",
      "\u001b[32m2025-07-14 14:16:29.346\u001b[0m | \u001b[33m\u001b[1mWARNING \u001b[0m | \u001b[36m__main__\u001b[0m:\u001b[36m<module>\u001b[0m:\u001b[36m12\u001b[0m - \u001b[33m\u001b[1mDocument without uuid: 24\u001b[0m\n",
      "\u001b[32m2025-07-14 14:16:29.346\u001b[0m | \u001b[33m\u001b[1mWARNING \u001b[0m | \u001b[36m__main__\u001b[0m:\u001b[36m<module>\u001b[0m:\u001b[36m12\u001b[0m - \u001b[33m\u001b[1mDocument without uuid: 24\u001b[0m\n",
      "\u001b[32m2025-07-14 14:16:29.346\u001b[0m | \u001b[33m\u001b[1mWARNING \u001b[0m | \u001b[36m__main__\u001b[0m:\u001b[36m<module>\u001b[0m:\u001b[36m8\u001b[0m - \u001b[33m\u001b[1mDocument without uuid: 29\u001b[0m\n",
      "\u001b[32m2025-07-14 14:16:29.346\u001b[0m | \u001b[33m\u001b[1mWARNING \u001b[0m | \u001b[36m__main__\u001b[0m:\u001b[36m<module>\u001b[0m:\u001b[36m8\u001b[0m - \u001b[33m\u001b[1mDocument without uuid: 29\u001b[0m\n",
      "\u001b[32m2025-07-14 14:16:29.346\u001b[0m | \u001b[33m\u001b[1mWARNING \u001b[0m | \u001b[36m__main__\u001b[0m:\u001b[36m<module>\u001b[0m:\u001b[36m8\u001b[0m - \u001b[33m\u001b[1mDocument without uuid: 29\u001b[0m\n",
      "\u001b[32m2025-07-14 14:16:29.346\u001b[0m | \u001b[33m\u001b[1mWARNING \u001b[0m | \u001b[36m__main__\u001b[0m:\u001b[36m<module>\u001b[0m:\u001b[36m8\u001b[0m - \u001b[33m\u001b[1mDocument without uuid: 29\u001b[0m\n",
      "\u001b[32m2025-07-14 14:16:29.346\u001b[0m | \u001b[33m\u001b[1mWARNING \u001b[0m | \u001b[36m__main__\u001b[0m:\u001b[36m<module>\u001b[0m:\u001b[36m8\u001b[0m - \u001b[33m\u001b[1mDocument without uuid: 29\u001b[0m\n",
      "\u001b[32m2025-07-14 14:16:29.346\u001b[0m | \u001b[33m\u001b[1mWARNING \u001b[0m | \u001b[36m__main__\u001b[0m:\u001b[36m<module>\u001b[0m:\u001b[36m8\u001b[0m - \u001b[33m\u001b[1mDocument without uuid: 29\u001b[0m\n",
      "\u001b[32m2025-07-14 14:16:29.346\u001b[0m | \u001b[33m\u001b[1mWARNING \u001b[0m | \u001b[36m__main__\u001b[0m:\u001b[36m<module>\u001b[0m:\u001b[36m8\u001b[0m - \u001b[33m\u001b[1mDocument without uuid: 29\u001b[0m\n",
      "\u001b[32m2025-07-14 14:16:29.347\u001b[0m | \u001b[33m\u001b[1mWARNING \u001b[0m | \u001b[36m__main__\u001b[0m:\u001b[36m<module>\u001b[0m:\u001b[36m8\u001b[0m - \u001b[33m\u001b[1mDocument without uuid: 29\u001b[0m\n",
      "\u001b[32m2025-07-14 14:16:29.347\u001b[0m | \u001b[33m\u001b[1mWARNING \u001b[0m | \u001b[36m__main__\u001b[0m:\u001b[36m<module>\u001b[0m:\u001b[36m8\u001b[0m - \u001b[33m\u001b[1mDocument without uuid: 29\u001b[0m\n"
     ]
    }
   ],
   "source": [
    "import uuid\n",
    "from utils import read_file, write_file\n",
    "from loguru import logger\n",
    "data = read_file(\"../submit_data/raw_data_batch3.json\")\n",
    "for tpc in data:\n",
    "  for doc in tpc.get(\"docs\", []):\n",
    "    if \"uuid\" not in doc:\n",
    "      logger.warning(f\"Document without uuid: {tpc['topic_id']}\")\n",
    "      doc[\"uuid\"] = str(uuid.uuid4())\n",
    "  for doc in tpc.get(\"dis_T\", []):\n",
    "    if \"uuid\" not in doc:\n",
    "      logger.warning(f\"Document without uuid: {tpc['topic_id']}\")\n",
    "      doc[\"uuid\"] = str(uuid.uuid4())\n",
    "write_file(data, \"../submit_data/raw_data_batch3.json\")"
   ]
  },
  {
   "cell_type": "code",
   "execution_count": 4,
   "id": "b5a29e50",
   "metadata": {},
   "outputs": [
    {
     "name": "stderr",
     "output_type": "stream",
     "text": [
      "\u001b[32m2025-07-14 15:03:08.432\u001b[0m | \u001b[1mINFO    \u001b[0m | \u001b[36m__main__\u001b[0m:\u001b[36mpair_summary\u001b[0m:\u001b[36m18\u001b[0m - \u001b[1mPairing 611 summaries with raw data.\u001b[0m\n"
     ]
    }
   ],
   "source": [
    "from utils import read_jsonl, read_file, write_file\n",
    "from loguru import logger\n",
    "def pair_summary(raw_data_path: str, summary_data_path: str) -> None:\n",
    "  raw_data = read_file(raw_data_path)\n",
    "  summary_data = read_jsonl(summary_data_path) # {'uuid': '...', 'summary': '...'}\n",
    "  uuid2summary = {d['uuid']: d['answer'] for d in summary_data}\n",
    "  cnt = 0\n",
    "  for tpc in raw_data:\n",
    "    for doc in tpc['docs']:\n",
    "      if doc['uuid'] in uuid2summary:\n",
    "        doc['summary'] = uuid2summary[doc['uuid']]\n",
    "        cnt += 1\n",
    "    for doc in tpc['dis_T']:\n",
    "      if doc['uuid'] in uuid2summary:\n",
    "        doc['summary'] = uuid2summary[doc['uuid']]\n",
    "        cnt += 1\n",
    "  write_file(raw_data, raw_data_path)\n",
    "  logger.info(f\"Pairing {cnt} summaries with raw data.\")\n",
    "pair_summary('/Users/ymx66/Workspace/why-it-happened/submit_data/raw_data_batch3.json', '/Users/ymx66/Workspace/why-it-happened/submit_data/smy_batch3.jsonl')\n"
   ]
  },
  {
   "cell_type": "code",
   "execution_count": 3,
   "id": "06832293",
   "metadata": {},
   "outputs": [
    {
     "name": "stderr",
     "output_type": "stream",
     "text": [
      "\u001b[32m2025-07-11 14:57:19.974\u001b[0m | \u001b[1mINFO    \u001b[0m | \u001b[36m__main__\u001b[0m:\u001b[36mpair_events\u001b[0m:\u001b[36m16\u001b[0m - \u001b[1mPairing 56 events with raw data.\u001b[0m\n"
     ]
    }
   ],
   "source": [
    "def pair_events(raw_data_path: str, events_data_path: str) -> None:\n",
    "  raw_data = read_file(raw_data_path)\n",
    "  events_data = read_jsonl(events_data_path) # {'uuid': '...', 'answer': '...'}\n",
    "  uuid2events = {d['uuid']: d['answer'] for d in events_data}\n",
    "  cnt = 0\n",
    "  for tpc in raw_data:\n",
    "    for doc in tpc['docs']:\n",
    "      if doc['uuid'] in uuid2events:\n",
    "        doc['events'] = uuid2events[doc['uuid']]\n",
    "        cnt += 1\n",
    "    for doc in tpc['dis_T']:\n",
    "      if doc['uuid'] in uuid2events:\n",
    "        doc['events'] = uuid2events[doc['uuid']]\n",
    "        cnt += 1\n",
    "  write_file(raw_data, raw_data_path)\n",
    "  logger.info(f\"Pairing {cnt} events with raw data.\")\n",
    "pair_events('/Users/ymx66/Workspace/why-it-happened/submit_data/raw_data.json', '/Users/ymx66/Workspace/why-it-happened/submit_data/events.jsonl')\n",
    "                       "
   ]
  },
  {
   "cell_type": "code",
   "execution_count": 4,
   "id": "7f125a2e",
   "metadata": {},
   "outputs": [],
   "source": [
    "from utils import write_line\n",
    "import uuid\n",
    "def make_pairs_from_timeline(timline_path: str, raw_data_path: str, output_path: str) -> None:\n",
    "  raw_data = read_file(raw_data_path)\n",
    "  data = read_jsonl(timline_path)\n",
    "\n",
    "  for d in data:\n",
    "    topic_id = d[\"topic_id\"]\n",
    "    topic = d[\"topic\"]\n",
    "    timeline = d[\"answer\"]\n",
    "    # ori_data = raw_data[topic_id - 1]\n",
    "    ori_data = next(\n",
    "        (item for item in raw_data if item[\"topic_id\"] == topic_id), None\n",
    "    )\n",
    "\n",
    "    for i in range(1, len(timeline)):\n",
    "      event2 = timeline[i][\"event\"]\n",
    "      pos2 = timeline[i][\"position\"]\n",
    "      event2_context = [\n",
    "          doc[\"summary\"] for doc in ori_data[\"docs\"] if doc[\"position\"] in pos2\n",
    "      ]\n",
    "\n",
    "      for j in range(i):\n",
    "        event1 = timeline[j][\"event\"]\n",
    "        pos1 = timeline[j][\"position\"]\n",
    "        event1_context = [\n",
    "          doc[\"summary\"]\n",
    "          for doc in ori_data[\"docs\"]\n",
    "          if doc[\"position\"] in pos1\n",
    "        ]\n",
    "\n",
    "        new_d = {\n",
    "          \"topic_id\": topic_id,\n",
    "          \"topic\": topic,\n",
    "          \"uuid\": str(uuid.uuid4()),\n",
    "          \"event1\": event1,\n",
    "          \"event1_context\": event1_context,\n",
    "          \"event1_order\": timeline[j][\"event_order\"],\n",
    "          \"event2\": event2,\n",
    "          \"event2_context\": event2_context,\n",
    "          \"event2_order\": timeline[i][\"event_order\"],\n",
    "        }\n",
    "\n",
    "        write_line(new_d, output_path)\n",
    "make_pairs_from_timeline('../submit_data/timeline.jsonl', '../submit_data/raw_data.json', '../submit_data/event_pairs.jsonl')"
   ]
  },
  {
   "cell_type": "code",
   "execution_count": 10,
   "id": "51e42af4",
   "metadata": {},
   "outputs": [
    {
     "name": "stdout",
     "output_type": "stream",
     "text": [
      "{'topic_id': 2, 'topic': 'COVID-19 pandemic triggers global health crisis', 'uuid': 'aedba7e2-288d-42c8-acb2-4a1fb417dfd2', 'event1': 'The WHO was notified of a cluster of unusual pneumonia cases in Wuhan City, China on Dec. 31.', 'event1_context': [\"On Dec. 31, the WHO was notified of a cluster of unusual pneumonia cases in Wuhan City, China. A week later, Chinese authorities identified SARS-CoV-2 as the new coronavirus causing the infections. SARS-CoV-2 quickly spread around the globe, with thousands of cases reported across all 50 US states by mid-March. In 2002, a coronavirus jumped from civet cats to humans, causing a SARS-CoV outbreak. A decade later, a coronavirus crossed from dromedary camels to humans, causing a MERS-CoV outbreak. The CDC and the federal government worked with state and local authorities on strict public health measures to slow the virus's spread. Officials in some areas required bars and restaurants to close and residents to stay home. Doctors relied on supportive care to help COVID-19 patients recover. Clinical trials began to test potential treatments and vaccines for COVID-19, including remdesivir trials in China. Gilead provided remdesivir for certain severely ill patients, pregnant women, and children outside of trials. Clinical studies also began to test chloroquine, hydroxychloroquine, and sarilumab for COVID-19. The National Institutes of Health launched an early clinical trial of a COVID-19 vaccine.\"], 'event1_order': 1, 'event2': 'The World Health Organization (WHO) officially declared the situation a pandemic on March 11, 2020.', 'event2_context': [\"On March 11, 2020, the World Health Organization (WHO) officially declared the situation a pandemic.\\n\\nIn Asia, the Iranian government faced criticism for its delayed outbreak response. On March 26, the Iranian government issued an intercity travel ban and closed schools, universities, national parks, and non-essential businesses. Tens of thousands of Afghans began returning to Afghanistan from Iran, with a significant number of Afghanistan's confirmed COVID-19 cases originating from Iran. Afghan government officials recommended social distancing measures and instituted a daytime curfew in Herat. On March 24, Afghanistan’s health ministry warned that half of the country’s population might be infected. In Bangladesh, health authorities began developing a preparedness and response plan with UN agencies for Rohingya refugee camps, and hundreds of health workers started receiving training for disease outbreak detection and prevention. The government of Bangladesh began allowing only essential services to reach the camps.\\n\\nAcross sub-Saharan Africa, countries began taking precautions, including blocking flights and screening/quarantining passengers, to stop COVID-19. The UN requested nine troop-contributing countries to delay peacekeeper rotations. In the Horn of Africa, Somalia, Ethiopia, and Kenya registered their first COVID-19 cases by March 29, and Kenya confirmed its first COVID-19 death. In Ethiopia, popular sentiment violently turned against foreigners blamed for spreading the disease, and a months-long government-imposed shutdown of phone and internet services in Oromia restricted virus information dissemination. The government in Somalia halted international flights, closed schools, and prohibited large public gatherings. Nigeria was the first central African state to report virus cases, and its government began working with UN leadership to coordinate response efforts. In the Sahel, Marie Rose Compaore, Burkina Faso's second vice-president of the National Assembly, died. The UN’s Office for the Coordination of Humanitarian Affairs (OCHA) postponed a Sahel donor conference due to COVID-19. In the Democratic Republic of Congo (DRC), the two-year Ebola outbreak ended in early March 2020, followed by the arrival of the novel coronavirus. Discussions began to repurpose Ebola health facilities for COVID-19 treatment, and NGOs began integrating coronavirus messaging into their programs. South Sudan suspended all international flights and locked down its land borders (except for cargo). The UN and troop-contributing countries took steps, including a temporary freeze on staff travel into South Sudan, to limit potential exposure.\\n\\nIn the Americas, the United States began leading the world in confirmed coronavirus cases. Before the outbreak, the U.S. Department of Homeland Security (DHS) returned over 60,000 asylum seekers to northern Mexico under the Migration Protection Protocols (MPP). On March 21, the U.S. government mandated port and border closures due to the pandemic, empowering DHS to immediately turn back or repatriate all asylum seekers without due process. These U.S. measures impeded humanitarian workers from bringing critical supplies to Mexico, and some shelters for asylum seekers on the Mexican side of the border were forced to close. The United States began turning away or repatriating all undocumented migrants, including asylum seekers and unaccompanied minors, to Mexico, Guatemala, Honduras, and Ecuador. The Mexican government agreed to accept most Central American returnees (excluding unaccompanied minors). Many NGOs monitoring the U.S. border reduced or ceased operations due to COVID-19 efforts. Mexican President Andrés Manuel López Obrador was criticized for ignoring the crisis. The Mexican government began implementing virus containment steps, including calling for stay-at-home orders and limiting tourism, and started working to reduce overcrowding in migratory stations. The Mexican government continued to accept deported Mexicans from the U.S. despite inadequate health screenings and indicated it would suspend asylum request processing until April 20. In Central America, Guatemala’s government suspended all international flights and closed borders for 15 days on March 16. On March 17, Guatemala announced the temporary suspension of Honduran and Salvadoran transfers from the U.S. under the Asylum Cooperation Agreement (ACA). Guatemala initially announced suspending acceptance of deported Guatemalan nationals but reversed this decision, and deportations of Guatemalans resumed. The Guatemalan government began warning citizens of immediate deportation if they attempt to go to the U.S. In El Salvador, President Nayib Bukele announced the country would bar entry to all foreigners except diplomats and legal permanent residents. President Bukele announced the creation of a special hospital for COVID-19 patients and called for a halt of deportations from Mexico and the U.S. on March 18; however, deportation flights to El Salvador continued. By March 29, Guatemala, El Salvador, and Honduras all received U.S. Immigration and Customs Enforcement (ICE) air flights from the U.S. In Venezuela, a “social quarantine” was established nation-wide, and military forces were deployed to enforce movement restrictions. On March 24, the Venezuelan government ordered stricter isolation measures in Caracas, Miranda, and Vargas. Nicolás Maduro called on the United States to lift its sanctions on Venezuela, with human rights groups, EU leaders, the UN Secretary-General, and UN High Commissioner for Human Rights echoing these calls. On March 26, the United States indicted Maduro with narco-terrorism and other serious charges. Maduro tried and failed to secure a $5 billion loan from the International Monetary Fund (IMF). President Xi Jinping of China sent 4,000 diagnosis kits to Venezuela, and Cuba sent a medical brigade to help. In Colombia, a 19-day nation-wide lockdown went into effect on March 29. As of March 17, the Colombian government closed its borders. The Colombian government ordered NGOs in the border area to halve their capacity, and on March 16, the Colombian Department of Health announced a prohibition on gatherings of more than 50 people. In Ecuador, borders closed to all foreign travelers on March 15, and gatherings of more than 30 people were banned. In Peru, President Martín Vizcarra declared a state of emergency and initially shut the country’s borders for 15 days on March 15. Four days later, Peru’s government imposed a nationwide curfew and ban on private vehicles. On March 25, President Vizcarra extended the state of emergency and nationwide quarantine through April 12. On March 18, Brazil ordered a partial closing of its border with Venezuela for 15 days.\\n\\nIn Europe, by March 17, 10 cases were reported among refugees and asylum seekers in Germany. European countries began closing their borders to asylum seekers. By March 16, Greece, Hungary, Belgium, and the Netherlands shut their asylum offices, and asylum services in Italy significantly slowed. NGOs suspended search and rescue operations in the Mediterranean Sea for those crossing from Libya. In Italy, the government called in the military to enforce its lockdown on March 20. On March 22, the Prime Minister ordered all non-essential businesses and factories to close and prohibited non-essential movement. On March 12, the Italian government suspended interviews for refugee status determination (RSD) and hearings for appeals. In Greece, a country-wide lockdown was enacted, closing hotels and suspending most international flights. The Ministry of Migration and Asylum suspended all administrative services until April 13. The Greek government instituted a curfew and prohibited NGOs from entering the camps for at least 14 days. Relief groups called on the Greek government to evacuate camp residents to facilities across the country, and the EU echoed this call for vulnerable asylum seekers.\\n\\nIn the Middle East, at least three people showing COVID-19 symptoms died in Idlib province in the past week, and several other patients with virus symptoms are quarantined. On March 25, WHO delivered 300 testing kits to northwest Syria. In Iraq, the Baghdad and KRI governments imposed a curfew and cancelled all domestic flights, though security forces struggled to enforce the lockdown as thousands of pilgrims visited shrines. Humanitarian actors reported that curfews and movement restrictions impacted assistance delivery. Humanitarian groups in Iraq developed a COVID-19 preparedness and response plan for camps, and UN agencies began supporting Iraq with testing capacities and procurement of personal protective equipment. In Yemen, both Houthi rebels and the internationally recognized government banned international flights last week, a ban that included chartered medical evacuations. The UN confirmed that Yemeni seaports remained open for cargo, and the UN-led Yemen aid operation continued. The WHO began supporting Yemen's national health authorities with medical supplies, testing kits, training, and information campaigns. Some international relief teams in Yemen scaled back to essential staff only, and a fingerprint-driven digital registration system for aid recipients was paused.\"], 'event2_order': 3, 'gpt_score': 13, 'gpt_reasoning': \"Context 1 states that the WHO was notified of a cluster of unusual pneumonia cases in Wuhan on Dec. 31, but it does not explicitly connect this notification to the WHO's later declaration of a pandemic on March 11 (Event 2). While the notification is a necessary early step in the timeline, the context does not indicate a direct, single-step causal relationship; instead, the pandemic declaration appears to result from the subsequent global spread and escalation described in both contexts. Thus, the evidence supports at most a multi-step chain, not a direct, single-step causality.\", 'gemini_score': 38, 'gemini_reasoning': \"The contexts establish a chronological sequence where the WHO was notified of unusual pneumonia cases on Dec. 31, followed by the virus's global spread, and then the official declaration of a pandemic on March 11. While the initial notification was a necessary antecedent, the declaration of a *pandemic* was a consequence of the virus's widespread global dissemination and severity, not a direct, single-step result of the initial notification itself. The significant time gap and the implied intermediate steps (identification, global spread) indicate a multi-step causal chain, not a direct one, thus weakening the single-step causal link.\", 'claude_score': 87, 'claude_reasoning': \"The context explicitly describes a clear temporal and causal sequence: the WHO notification of unusual pneumonia cases on December 31 was followed by the identification of SARS-CoV-2, its rapid global spread with thousands of U.S. cases by mid-March, and then the WHO's pandemic declaration on March 11. While the context doesn't use explicit causal language like 'because' or 'therefore,' the chronological progression and the phrase 'SARS-CoV-2 quickly spread around the globe' directly links the initial cluster notification to the subsequent pandemic declaration, establishing a strong implicit single-step causal relationship.\", 'var': 1417, 'avg': 46}\n"
     ]
    },
    {
     "data": {
      "text/plain": [
       "(675, 167)"
      ]
     },
     "execution_count": 10,
     "metadata": {},
     "output_type": "execute_result"
    }
   ],
   "source": [
    "from glob import glob\n",
    "from utils import read_jsonl, write_jsonl\n",
    "from collections import defaultdict\n",
    "import statistics\n",
    "\n",
    "def group_annotation_data(input_path: str, raw_data_path: str) -> tuple[list[dict], list[dict]]:\n",
    "    files = glob(input_path + '/*.jsonl')\n",
    "    uuid2scores_by_model = defaultdict(lambda: {'gpt': None, 'gemini': None, 'claude': None})\n",
    "    uuid2reasoning_by_model = defaultdict(lambda: {'gpt': None, 'gemini': None, 'claude': None})\n",
    "    uuid2all_scores = defaultdict(list)\n",
    "\n",
    "    for file in files:\n",
    "        if 'gpt' in file:\n",
    "            model_name = 'gpt'\n",
    "        elif 'gemini' in file:\n",
    "            model_name = 'gemini'\n",
    "        elif 'claude' in file:\n",
    "            model_name = 'claude'\n",
    "        else:\n",
    "            continue\n",
    "        data = read_jsonl(file)\n",
    "        for d in data:\n",
    "            uuid = d['uuid']\n",
    "            score = d['score']\n",
    "            reasoning = d['reasoning']\n",
    "            uuid2scores_by_model[uuid][model_name] = score\n",
    "            uuid2reasoning_by_model[uuid][model_name] = reasoning\n",
    "            uuid2all_scores[uuid].append(score)\n",
    "\n",
    "    uuid2var = {}\n",
    "    uuid2avg = {}\n",
    "    for uuid, scores in uuid2all_scores.items():\n",
    "        if len(scores) > 1:\n",
    "            var = statistics.variance(scores)\n",
    "        else:\n",
    "            var = 0.0\n",
    "        avg = statistics.mean(scores)\n",
    "        uuid2var[uuid] = var\n",
    "        uuid2avg[uuid] = avg\n",
    "\n",
    "    def get_interval(score: float) -> int:\n",
    "        if 0 <= score < 40:\n",
    "            return 1\n",
    "        elif 40 <= score < 60:\n",
    "            return 2\n",
    "        elif 60 <= score <= 100:\n",
    "            return 3\n",
    "        else:\n",
    "            return -1\n",
    "\n",
    "    first_class = []\n",
    "    second_class = []\n",
    "\n",
    "    raw_data = read_jsonl(raw_data_path)\n",
    "    for d in raw_data:\n",
    "        uuid = d['uuid']\n",
    "        model_scores = uuid2scores_by_model.get(uuid, {})\n",
    "        d['gpt_score'] = model_scores.get('gpt')\n",
    "        d['gpt_reasoning'] = uuid2reasoning_by_model.get(uuid, {}).get('gpt')\n",
    "        d['gemini_score'] = model_scores.get('gemini')\n",
    "        d['gemini_reasoning'] = uuid2reasoning_by_model.get(uuid, {}).get('gemini')\n",
    "        d['claude_score'] = model_scores.get('claude')\n",
    "        d['claude_reasoning'] = uuid2reasoning_by_model.get(uuid, {}).get('claude')\n",
    "        d['var'] = uuid2var.get(uuid)\n",
    "        d['avg'] = uuid2avg.get(uuid)\n",
    "\n",
    "        scores = [model_scores['gpt'], model_scores['gemini'], model_scores['claude']]\n",
    "        intervals = {get_interval(s) for s in scores if s is not None}\n",
    "\n",
    "        if d['var'] < 500 or len(intervals) == 1:\n",
    "            first_class.append(d)\n",
    "        else:\n",
    "            second_class.append(d)\n",
    "\n",
    "    return first_class, second_class\n",
    "f, s = group_annotation_data('../submit_data/annotation_data', '../submit_data/event_pairs.jsonl')\n",
    "print(s[0])\n",
    "len(f), len(s)"
   ]
  },
  {
   "cell_type": "code",
   "execution_count": 11,
   "id": "3dc28203",
   "metadata": {},
   "outputs": [],
   "source": [
    "write_jsonl(f, '../submit_data/to_be_mcq.jsonl')\n",
    "write_jsonl(s, '../submit_data/to_be_verify.jsonl')"
   ]
  },
  {
   "cell_type": "code",
   "execution_count": null,
   "id": "be2fd738",
   "metadata": {},
   "outputs": [],
   "source": []
  }
 ],
 "metadata": {
  "kernelspec": {
   "display_name": ".venv",
   "language": "python",
   "name": "python3"
  },
  "language_info": {
   "codemirror_mode": {
    "name": "ipython",
    "version": 3
   },
   "file_extension": ".py",
   "mimetype": "text/x-python",
   "name": "python",
   "nbconvert_exporter": "python",
   "pygments_lexer": "ipython3",
   "version": "3.13.3"
  }
 },
 "nbformat": 4,
 "nbformat_minor": 5
}
